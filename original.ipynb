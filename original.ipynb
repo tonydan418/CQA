{
 "cells": [
  {
   "cell_type": "markdown",
   "metadata": {},
   "source": [
    "# CQA Lasso regression model test10\n",
    "\n",
    "11/12/2018    \n",
    "\n",
    "delayed return  \n",
    "84_Q data"
   ]
  },
  {
   "cell_type": "code",
   "execution_count": 1,
   "metadata": {},
   "outputs": [
    {
     "data": {
      "text/plain": [
       "('64bit', 'WindowsPE')"
      ]
     },
     "execution_count": 1,
     "metadata": {},
     "output_type": "execute_result"
    }
   ],
   "source": [
    "import pandas as pd\n",
    "import numpy as np\n",
    "import matplotlib.pyplot as plt\n",
    "%matplotlib inline \n",
    "import platform\n",
    "platform.architecture()"
   ]
  },
  {
   "cell_type": "markdown",
   "metadata": {},
   "source": [
    "### import alpha library"
   ]
  },
  {
   "cell_type": "code",
   "execution_count": 2,
   "metadata": {},
   "outputs": [],
   "source": [
    "# read data\n",
    "#data_matrix1 = pd.read_csv('/home/system99/Downloads/data_matrix_20_Q.csv')\n",
    "#data_matrix2 = pd.read_csv('/home/system99/Downloads/data_matrix_21_to_40_Q.csv')\n",
    "#data_matrix3 = pd.read_csv('/home/system99/Downloads/data_matrix_41_to_60_Q.csv')\n",
    "#data_matrix4 = pd.read_csv('/home/system99/Downloads/data_matrix_61_to_84_Q.csv')\n",
    "data_matrix1 = pd.read_csv(\"C:\\\\Users\\\\tony\\\\Desktop\\\\CQA\\\\data\\\\data_matrix_20_Q.csv\")\n",
    "data_matrix2 = pd.read_csv(\"C:\\\\Users\\\\tony\\\\Desktop\\\\CQA\\\\data\\\\data_matrix_21_to_40_Q.csv\")\n",
    "data_matrix3 = pd.read_csv(\"C:\\\\Users\\\\tony\\\\Desktop\\\\CQA\\\\data\\\\data_matrix_41_to_60_Q.csv\")\n",
    "data_matrix4 = pd.read_csv(\"C:\\\\Users\\\\tony\\\\Desktop\\\\CQA\\\\data\\\\data_matrix_61_to_84_Q.csv\")"
   ]
  },
  {
   "cell_type": "code",
   "execution_count": 3,
   "metadata": {},
   "outputs": [],
   "source": [
    "data_matrix = pd.concat([data_matrix1,data_matrix2,data_matrix3,data_matrix4],ignore_index=True)"
   ]
  },
  {
   "cell_type": "markdown",
   "metadata": {},
   "source": [
    "### monthly return"
   ]
  },
  {
   "cell_type": "code",
   "execution_count": 4,
   "metadata": {},
   "outputs": [],
   "source": [
    "monthly_returns = data_matrix[['asOfDate','tic','Return']]"
   ]
  },
  {
   "cell_type": "code",
   "execution_count": 5,
   "metadata": {},
   "outputs": [],
   "source": [
    "tics = data_matrix['tic']\n",
    "dates = data_matrix['asOfDate']\n",
    "dates = dates.apply(lambda x: x[:7])"
   ]
  },
  {
   "cell_type": "markdown",
   "metadata": {},
   "source": [
    "## 1. Data preprocess"
   ]
  },
  {
   "cell_type": "markdown",
   "metadata": {},
   "source": [
    "separate dates, returns (label) and alphas (data) from data matrix"
   ]
  },
  {
   "cell_type": "code",
   "execution_count": 6,
   "metadata": {},
   "outputs": [
    {
     "data": {
      "text/html": [
       "<div>\n",
       "<style scoped>\n",
       "    .dataframe tbody tr th:only-of-type {\n",
       "        vertical-align: middle;\n",
       "    }\n",
       "\n",
       "    .dataframe tbody tr th {\n",
       "        vertical-align: top;\n",
       "    }\n",
       "\n",
       "    .dataframe thead th {\n",
       "        text-align: right;\n",
       "    }\n",
       "</style>\n",
       "<table border=\"1\" class=\"dataframe\">\n",
       "  <thead>\n",
       "    <tr style=\"text-align: right;\">\n",
       "      <th></th>\n",
       "      <th>ALPHA_77</th>\n",
       "      <th>ALPHA_267</th>\n",
       "      <th>ALPHA_505</th>\n",
       "      <th>ALPHA_572</th>\n",
       "      <th>ALPHA_25</th>\n",
       "      <th>SPPIVY</th>\n",
       "      <th>ALPHA_129</th>\n",
       "      <th>ALPHA_264</th>\n",
       "      <th>OPMBD</th>\n",
       "      <th>OPMBD1</th>\n",
       "      <th>...</th>\n",
       "      <th>IBCOMY</th>\n",
       "      <th>DOQ</th>\n",
       "      <th>DOY</th>\n",
       "      <th>IBADJQ</th>\n",
       "      <th>IBQ</th>\n",
       "      <th>IBADJY</th>\n",
       "      <th>IBY</th>\n",
       "      <th>CSH12Q</th>\n",
       "      <th>CSHPRQ</th>\n",
       "      <th>CSHPRY</th>\n",
       "    </tr>\n",
       "  </thead>\n",
       "  <tbody>\n",
       "    <tr>\n",
       "      <th>0</th>\n",
       "      <td>-0.129319</td>\n",
       "      <td>0.053984</td>\n",
       "      <td>0.306399</td>\n",
       "      <td>0.346287</td>\n",
       "      <td>-0.066755</td>\n",
       "      <td>14.0</td>\n",
       "      <td>0.000000</td>\n",
       "      <td>2.028620</td>\n",
       "      <td>0.287070</td>\n",
       "      <td>0.287070</td>\n",
       "      <td>...</td>\n",
       "      <td>9705.0</td>\n",
       "      <td>0.0</td>\n",
       "      <td>0.0</td>\n",
       "      <td>3253.0</td>\n",
       "      <td>3253.0</td>\n",
       "      <td>9705.0</td>\n",
       "      <td>9705.0</td>\n",
       "      <td>905.3295</td>\n",
       "      <td>912.197</td>\n",
       "      <td>907.762</td>\n",
       "    </tr>\n",
       "    <tr>\n",
       "      <th>1</th>\n",
       "      <td>-0.273262</td>\n",
       "      <td>-0.003845</td>\n",
       "      <td>0.233960</td>\n",
       "      <td>-0.231986</td>\n",
       "      <td>-0.166918</td>\n",
       "      <td>-771.0</td>\n",
       "      <td>1.056310</td>\n",
       "      <td>-1.211370</td>\n",
       "      <td>0.295827</td>\n",
       "      <td>0.295827</td>\n",
       "      <td>...</td>\n",
       "      <td>5617.0</td>\n",
       "      <td>0.0</td>\n",
       "      <td>0.0</td>\n",
       "      <td>2741.0</td>\n",
       "      <td>3123.0</td>\n",
       "      <td>5331.0</td>\n",
       "      <td>6305.0</td>\n",
       "      <td>9102.1828</td>\n",
       "      <td>9956.773</td>\n",
       "      <td>9570.166</td>\n",
       "    </tr>\n",
       "    <tr>\n",
       "      <th>2</th>\n",
       "      <td>-0.323743</td>\n",
       "      <td>0.103459</td>\n",
       "      <td>0.204940</td>\n",
       "      <td>0.259946</td>\n",
       "      <td>1.604720</td>\n",
       "      <td>-1061.0</td>\n",
       "      <td>1.980420</td>\n",
       "      <td>-0.135714</td>\n",
       "      <td>0.300105</td>\n",
       "      <td>0.300105</td>\n",
       "      <td>...</td>\n",
       "      <td>6917.0</td>\n",
       "      <td>-3.0</td>\n",
       "      <td>208.0</td>\n",
       "      <td>2674.0</td>\n",
       "      <td>2700.0</td>\n",
       "      <td>6860.0</td>\n",
       "      <td>6917.0</td>\n",
       "      <td>23195.6250</td>\n",
       "      <td>28849.400</td>\n",
       "      <td>28646.900</td>\n",
       "    </tr>\n",
       "    <tr>\n",
       "      <th>3</th>\n",
       "      <td>-0.055053</td>\n",
       "      <td>0.058377</td>\n",
       "      <td>0.426733</td>\n",
       "      <td>2.559450</td>\n",
       "      <td>-0.082981</td>\n",
       "      <td>NaN</td>\n",
       "      <td>0.536183</td>\n",
       "      <td>0.816442</td>\n",
       "      <td>0.414490</td>\n",
       "      <td>0.414490</td>\n",
       "      <td>...</td>\n",
       "      <td>18760.0</td>\n",
       "      <td>0.0</td>\n",
       "      <td>0.0</td>\n",
       "      <td>4518.0</td>\n",
       "      <td>4518.0</td>\n",
       "      <td>18760.0</td>\n",
       "      <td>18760.0</td>\n",
       "      <td>8813.0000</td>\n",
       "      <td>8712.000</td>\n",
       "      <td>8813.000</td>\n",
       "    </tr>\n",
       "    <tr>\n",
       "      <th>4</th>\n",
       "      <td>-0.127456</td>\n",
       "      <td>0.058582</td>\n",
       "      <td>0.412080</td>\n",
       "      <td>1.127290</td>\n",
       "      <td>-0.024606</td>\n",
       "      <td>0.0</td>\n",
       "      <td>0.000000</td>\n",
       "      <td>1.159110</td>\n",
       "      <td>0.396041</td>\n",
       "      <td>0.396041</td>\n",
       "      <td>...</td>\n",
       "      <td>3795.0</td>\n",
       "      <td>0.0</td>\n",
       "      <td>0.0</td>\n",
       "      <td>1840.0</td>\n",
       "      <td>1840.0</td>\n",
       "      <td>3795.0</td>\n",
       "      <td>3795.0</td>\n",
       "      <td>317.4950</td>\n",
       "      <td>318.350</td>\n",
       "      <td>318.123</td>\n",
       "    </tr>\n",
       "  </tbody>\n",
       "</table>\n",
       "<p>5 rows × 474 columns</p>\n",
       "</div>"
      ],
      "text/plain": [
       "   ALPHA_77  ALPHA_267  ALPHA_505  ALPHA_572  ALPHA_25  SPPIVY  ALPHA_129  \\\n",
       "0 -0.129319   0.053984   0.306399   0.346287 -0.066755    14.0   0.000000   \n",
       "1 -0.273262  -0.003845   0.233960  -0.231986 -0.166918  -771.0   1.056310   \n",
       "2 -0.323743   0.103459   0.204940   0.259946  1.604720 -1061.0   1.980420   \n",
       "3 -0.055053   0.058377   0.426733   2.559450 -0.082981     NaN   0.536183   \n",
       "4 -0.127456   0.058582   0.412080   1.127290 -0.024606     0.0   0.000000   \n",
       "\n",
       "   ALPHA_264     OPMBD    OPMBD1    ...       IBCOMY  DOQ    DOY  IBADJQ  \\\n",
       "0   2.028620  0.287070  0.287070    ...       9705.0  0.0    0.0  3253.0   \n",
       "1  -1.211370  0.295827  0.295827    ...       5617.0  0.0    0.0  2741.0   \n",
       "2  -0.135714  0.300105  0.300105    ...       6917.0 -3.0  208.0  2674.0   \n",
       "3   0.816442  0.414490  0.414490    ...      18760.0  0.0    0.0  4518.0   \n",
       "4   1.159110  0.396041  0.396041    ...       3795.0  0.0    0.0  1840.0   \n",
       "\n",
       "      IBQ   IBADJY      IBY      CSH12Q     CSHPRQ     CSHPRY  \n",
       "0  3253.0   9705.0   9705.0    905.3295    912.197    907.762  \n",
       "1  3123.0   5331.0   6305.0   9102.1828   9956.773   9570.166  \n",
       "2  2700.0   6860.0   6917.0  23195.6250  28849.400  28646.900  \n",
       "3  4518.0  18760.0  18760.0   8813.0000   8712.000   8813.000  \n",
       "4  1840.0   3795.0   3795.0    317.4950    318.350    318.123  \n",
       "\n",
       "[5 rows x 474 columns]"
      ]
     },
     "execution_count": 6,
     "metadata": {},
     "output_type": "execute_result"
    }
   ],
   "source": [
    "mask = [i for i in range(14,488)]\n",
    "alpha_library = data_matrix.iloc[:,mask]\n",
    "alpha_library.head()"
   ]
  },
  {
   "cell_type": "markdown",
   "metadata": {},
   "source": [
    "### Function1: delete columns with too many nan \n",
    "input:    \n",
    "data -- dataframe;   \n",
    "ratio -- threshold of (number of NA's)/(data size);\n",
    "      \n",
    "output:    \n",
    "data -- dataframe which the ratio less than threshold ratio"
   ]
  },
  {
   "cell_type": "code",
   "execution_count": 7,
   "metadata": {},
   "outputs": [],
   "source": [
    "# delete columns with too many nan\n",
    "def delete_columns_with_too_many_nan(data, ratio):\n",
    "    return data.loc[:,data.isnull().mean()<(ratio)]"
   ]
  },
  {
   "cell_type": "markdown",
   "metadata": {},
   "source": [
    "After delete all the alpha with >0.1 NA's, the alpha library contains 464 alphas."
   ]
  },
  {
   "cell_type": "code",
   "execution_count": 8,
   "metadata": {},
   "outputs": [
    {
     "data": {
      "text/plain": [
       "(252000, 474)"
      ]
     },
     "execution_count": 8,
     "metadata": {},
     "output_type": "execute_result"
    }
   ],
   "source": [
    "alpha_library = delete_columns_with_too_many_nan(alpha_library, 0.1)\n",
    "alpha_library.shape"
   ]
  },
  {
   "cell_type": "markdown",
   "metadata": {},
   "source": [
    "### Function2: replace NA's with mean in the column"
   ]
  },
  {
   "cell_type": "code",
   "execution_count": 9,
   "metadata": {},
   "outputs": [],
   "source": [
    "# replace nan with mean\n",
    "def replace_nan_with_mean(data):\n",
    "    col_names = list(data)\n",
    "    col_mean = np.nanmean(data, axis=0)\n",
    "    values = {}\n",
    "    for i in range(len(col_names)):\n",
    "        values[col_names[i]] = col_mean[i]\n",
    "    return data.fillna(values)\n"
   ]
  },
  {
   "cell_type": "code",
   "execution_count": 10,
   "metadata": {},
   "outputs": [],
   "source": [
    "alpha_library = replace_nan_with_mean(alpha_library)"
   ]
  },
  {
   "cell_type": "markdown",
   "metadata": {},
   "source": [
    "### Function3: data mask\n",
    "input:   \n",
    "start_year,start_quarter,train_time,delay\n",
    "\n",
    "output:   \n",
    "training data"
   ]
  },
  {
   "cell_type": "code",
   "execution_count": 11,
   "metadata": {},
   "outputs": [],
   "source": [
    "def monthly_delay(start_year,start_month,delay):\n",
    "    if start_month<10:\n",
    "        start_time = str(start_year)+'-0'+str(start_month)\n",
    "    else:\n",
    "        start_time = str(start_year)+'-'+str(start_month)    \n",
    "    \n",
    "    response_month = start_month+delay\n",
    "    if response_month>12:\n",
    "        response_year = start_year+1\n",
    "        response_month = response_month-12\n",
    "    else:\n",
    "        response_year = start_year\n",
    "        \n",
    "    if response_month<10:\n",
    "        response_time = str(response_year)+'-0'+str(response_month)\n",
    "    else:\n",
    "        response_time = str(response_year)+'-'+str(response_month)\n",
    "        \n",
    "    return start_time,response_time\n",
    "\n",
    "\n",
    "#convert from the original start year and month to one month later on for testing sample\n",
    "def convert_to_test(start_year,start_month,delay):\n",
    "    #normal addition process\n",
    "    #if start_month <12:\n",
    "    if start_month <9:\n",
    "        start_yr = start_year\n",
    "        #start_m = start_month +1\n",
    "        start_m = start_month +delay\n",
    "        \n",
    "    #adding another year\n",
    "    else: \n",
    "        start_yr = start_year + 1 \n",
    "        #start_m = 1 \n",
    "        start_m = start_month + delay - 12\n",
    "    \n",
    "    return start_yr, start_m "
   ]
  },
  {
   "cell_type": "code",
   "execution_count": 12,
   "metadata": {},
   "outputs": [],
   "source": [
    "def retrive_train(alpha_library,monthly_returns,dates,tics,start_year,start_month,delay):\n",
    "    start_time,response_time = monthly_delay(start_year,start_month,delay)\n",
    "    \n",
    "    train_mask = dates == start_time\n",
    "    train_alpha  = alpha_library[train_mask]\n",
    "    train_tic = list(tics[train_mask])\n",
    "    ##3\n",
    "    ###\n",
    "    ###\n",
    "    ###\n",
    "    ###\n",
    "    ###\n",
    "    ###\n",
    "    ###\n",
    "    ###\n",
    "    ###\n",
    "    response_mask = dates == response_time\n",
    "    response_return = monthly_returns['Return'][response_mask]\n",
    "    response_tic = monthly_returns['tic'][response_mask]\n",
    "\n",
    "    # create a tic-return dictionary\n",
    "    response_dict = dict([(i,j) for i,j in zip(response_tic,response_return)])\n",
    "\n",
    "    # create returns\n",
    "    train_Y = np.zeros([train_alpha.shape[0],1])\n",
    "    for i in range(len(train_tic)):\n",
    "        if train_tic[i] in response_dict:\n",
    "            train_Y[i] = response_dict[train_tic[i]]\n",
    "        else:\n",
    "            train_Y[i] = None\n",
    "            \n",
    "    train_Y = pd.DataFrame(train_Y)\n",
    "    \n",
    "    # filter nan in returns\n",
    "    train_alpha['label'] = train_Y.values\n",
    "    train_Y = train_alpha.loc[~train_alpha['label'].isnull(),'label']\n",
    "    train_X = train_alpha.loc[~train_alpha['label'].isnull(),].drop(columns=['label'])\n",
    "\n",
    "    return train_X,train_Y"
   ]
  },
  {
   "cell_type": "code",
   "execution_count": 13,
   "metadata": {},
   "outputs": [],
   "source": [
    "def retrive_test(alpha_library,monthly_returns,dates,tics,start_year,start_month,delay):\n",
    "    start_time,response_time = monthly_delay(start_year,start_month,delay)\n",
    "    ###\n",
    "    ###\n",
    "    ###\n",
    "    ###\n",
    "    ###\n",
    "    ###\n",
    "    ###\n",
    "    ###\n",
    "    ###\n",
    "    test_mask = dates == start_time\n",
    "    test_X  = alpha_library[test_mask]\n",
    "    test_tic = list(tics[test_mask])\n",
    "\n",
    "    return test_X,test_tic,response_time"
   ]
  },
  {
   "cell_type": "markdown",
   "metadata": {},
   "source": [
    "## 2. Lasso regression"
   ]
  },
  {
   "cell_type": "code",
   "execution_count": 14,
   "metadata": {},
   "outputs": [],
   "source": [
    "from sklearn import datasets, linear_model\n",
    "from sklearn.metrics import mean_squared_error, r2_score, explained_variance_score\n",
    "import warnings\n",
    "warnings.filterwarnings('ignore')"
   ]
  },
  {
   "cell_type": "code",
   "execution_count": 15,
   "metadata": {},
   "outputs": [],
   "source": [
    "import os\n",
    "#returns_folder = '/home/system99/dr/' \n",
    "returns_folder = \"C:\\\\Users\\\\tony\\\\Desktop\\\\CQA\\\\data\\\\dr\\\\\"\n",
    "files_list = os.listdir(returns_folder)\n",
    "files_list = sorted(files_list)"
   ]
  },
  {
   "cell_type": "markdown",
   "metadata": {},
   "source": [
    "There are two different strategy for the portfolio management.   \n",
    "(1) invest one (or negetive one) dollar every day for each company  \n",
    "(2) invest one(or negetive one) dollar in the beginning of every month for each company  \n",
    "\n",
    "The following function is based on assumption (2)."
   ]
  },
  {
   "cell_type": "code",
   "execution_count": 16,
   "metadata": {},
   "outputs": [],
   "source": [
    "def portfolio_monthly_returns(date,files_list,returns_folder,returns,x):\n",
    "    daily_returns = pd.DataFrame([], columns=('date','portfolio_value','portfolio_return'))\n",
    "    i = 0\n",
    "    for temp_file in files_list:\n",
    "        if date in temp_file:\n",
    "            return_temp = pd.read_csv(returns_folder+temp_file)\n",
    "            return_temp = return_temp.dropna()\n",
    "        \n",
    "            for j in range(return_temp.shape[0]):\n",
    "                if return_temp.iloc[j,0] in returns:\n",
    "                    comp_tic = return_temp.iloc[j,0]\n",
    "                    returns[comp_tic] = returns[comp_tic]*(1+return_temp.iloc[j,1])\n",
    "            daily_returns.loc[i] = [pd.Timestamp(temp_file[:10]),x+sum(returns.values()),None]\n",
    "            if i>0:\n",
    "                daily_returns['portfolio_return'][i] = (daily_returns['portfolio_value'][i]-daily_returns['portfolio_value'][i-1])/daily_returns['portfolio_value'][i-1]\n",
    "            else:\n",
    "                daily_returns['portfolio_return'][i] = (daily_returns['portfolio_value'][i]-x)/x\n",
    "            i = i+1\n",
    "    month_return = (daily_returns['portfolio_value'][i-1]-x)/x\n",
    "\n",
    "    return daily_returns,month_return "
   ]
  },
  {
   "cell_type": "code",
   "execution_count": 17,
   "metadata": {},
   "outputs": [
    {
     "name": "stdout",
     "output_type": "stream",
     "text": [
      "portfolio_return for 2011-05 is  -0.0013083232773444253\n",
      "portfolio_return for 2011-06 is  0.012516008210386374\n",
      "portfolio_return for 2011-07 is  -0.0003440896903890553\n",
      "portfolio_return for 2011-08 is  0.006254891534515998\n",
      "portfolio_return for 2011-09 is  0.006048892913842287\n",
      "portfolio_return for 2011-10 is  0.005584013509466582\n",
      "portfolio_return for 2011-11 is  0.008166898165434873\n",
      "portfolio_return for 2011-12 is  -0.00031581008825218955\n",
      "portfolio_return for 2012-01 is  -0.03680504901183652\n",
      "portfolio_return for 2012-02 is  -0.00023896190149410443\n",
      "portfolio_return for 2012-03 is  0.008205080098139738\n",
      "portfolio_return for 2012-04 is  -0.002723940285071537\n",
      "portfolio_return for 2012-05 is  -0.005882689379704289\n",
      "portfolio_return for 2012-06 is  0.004336771136520214\n",
      "portfolio_return for 2012-07 is  0.010210730131482881\n",
      "portfolio_return for 2012-08 is  -0.003815807206868299\n",
      "portfolio_return for 2012-09 is  0.0038860168388642684\n",
      "portfolio_return for 2012-10 is  0.003387950874405332\n",
      "portfolio_return for 2012-11 is  0.002670371657410549\n",
      "portfolio_return for 2012-12 is  0.0053264423279719714\n",
      "portfolio_return for 2013-01 is  0.0016681235218218623\n",
      "portfolio_return for 2013-02 is  0.0017081759495278564\n",
      "portfolio_return for 2013-03 is  -0.0014551609436944653\n",
      "portfolio_return for 2013-04 is  0.0011032207373246085\n",
      "portfolio_return for 2013-05 is  0.0005010702739515748\n",
      "portfolio_return for 2013-06 is  0.002808185060998802\n",
      "portfolio_return for 2013-07 is  -0.004158684489202157\n",
      "portfolio_return for 2013-08 is  0.007166251236117669\n",
      "portfolio_return for 2013-09 is  0.005501500603368428\n",
      "portfolio_return for 2013-10 is  0.009156229436634685\n",
      "portfolio_return for 2013-11 is  0.0008707287595841417\n",
      "portfolio_return for 2013-12 is  -0.0030879919707794074\n",
      "portfolio_return for 2014-01 is  -0.013557958139329244\n",
      "portfolio_return for 2014-02 is  0.0003197131690571573\n",
      "portfolio_return for 2014-03 is  -0.0021755951384948248\n",
      "portfolio_return for 2014-04 is  -0.00026600894609090866\n",
      "portfolio_return for 2014-05 is  0.0165273234947209\n",
      "portfolio_return for 2014-06 is  -0.007019384487971001\n",
      "portfolio_return for 2014-07 is  0.007562760794500092\n",
      "portfolio_return for 2014-08 is  0.0025265403228195036\n",
      "portfolio_return for 2014-09 is  0.0023130651721604382\n",
      "portfolio_return for 2014-10 is  -0.017324932704553923\n",
      "portfolio_return for 2014-11 is  0.014010351208189132\n",
      "portfolio_return for 2014-12 is  -0.012574553835761556\n",
      "portfolio_return for 2015-01 is  0.014377236755003636\n",
      "portfolio_return for 2015-02 is  -0.0031368005097649003\n",
      "portfolio_return for 2015-03 is  0.01618675656835587\n",
      "portfolio_return for 2015-04 is  -0.006105344574865482\n",
      "portfolio_return for 2015-05 is  0.012567907493035966\n",
      "portfolio_return for 2015-06 is  0.01146220250255414\n",
      "portfolio_return for 2015-07 is  -0.014614047313354446\n",
      "portfolio_return for 2015-08 is  -0.007112818757429131\n",
      "portfolio_return for 2015-09 is  0.009806680588423818\n",
      "portfolio_return for 2015-10 is  -0.0072513797317933105\n",
      "portfolio_return for 2015-11 is  -0.004315993940402218\n",
      "portfolio_return for 2015-12 is  0.011876515123978627\n",
      "portfolio_return for 2016-01 is  0.014739026850876732\n",
      "portfolio_return for 2016-02 is  -0.010121404306420966\n",
      "portfolio_return for 2016-03 is  -0.0019867738585298642\n",
      "portfolio_return for 2016-04 is  -0.018802405522507455\n",
      "portfolio_return for 2016-05 is  -0.003644377380281109\n",
      "portfolio_return for 2016-06 is  -0.00046738564443993627\n",
      "portfolio_return for 2016-07 is  -0.004529083131485203\n",
      "portfolio_return for 2016-08 is  0.0033726623596229\n",
      "portfolio_return for 2016-09 is  -0.004404486151384086\n",
      "portfolio_return for 2016-10 is  -0.000212056929759327\n",
      "portfolio_return for 2016-11 is  0.015754537488609666\n",
      "portfolio_return for 2016-12 is  -0.003959473354296661\n",
      "portfolio_return for 2017-01 is  -0.0004013036993431186\n",
      "portfolio_return for 2017-02 is  -0.00786850788320368\n",
      "portfolio_return for 2017-03 is  0.00458497681935883\n",
      "portfolio_return for 2017-04 is  0.0020923320476673815\n",
      "portfolio_return for 2017-05 is  0.014000578268814538\n",
      "portfolio_return for 2017-06 is  -0.005452442337594844\n",
      "portfolio_return for 2017-07 is  0.004062846351321704\n",
      "portfolio_return for 2017-08 is  0.007389632740635095\n"
     ]
    }
   ],
   "source": [
    "from sklearn.ensemble import RandomForestClassifier\n",
    "\n",
    "delay = 4 # delay\n",
    "m = 1500 # number_of_stocks\n",
    "portfolio_returns = pd.DataFrame([], columns=('date','portfolio_return'))\n",
    "portfolio_daily_returns = pd.DataFrame([], columns=('date','portfolio_value','portfolio_return'))\n",
    "i = 0\n",
    "set_dates = list(sorted(set(dates)))\n",
    "x = 1\n",
    "#for k in range(len(set_dates)-delay):\n",
    "#for k in range(len(set_dates)-delay-1):\n",
    "for k in range(len(set_dates)-delay-delay):\n",
    "    date = set_dates[i]\n",
    "    start_year = int(date[:4])\n",
    "    start_month = int(date[5:7])\n",
    "    \n",
    "    train_X,train_Y = retrive_train(alpha_library,monthly_returns,dates,tics,start_year,start_month,delay)\n",
    "    #test_X,test_tic,response_time = retrive_test(alpha_library,monthly_returns,dates,tics,start_year,start_month,delay)\n",
    "    ##############################################\n",
    "    #roll over the relationship one period ahead\n",
    "    start_y, start_m = convert_to_test(start_year,start_month,delay)\n",
    "    test_X,test_tic,response_time = retrive_test(alpha_library,monthly_returns,dates,tics,start_y,start_m,delay)\n",
    "    ################################################\n",
    "    \n",
    "    \n",
    "    # Create linear regression object\n",
    "    #regr_Lasso = linear_model.Lasso(alpha=.1)\n",
    "\n",
    "    # Train the model using the training sets\n",
    "    #regr_Lasso.fit(train_X, train_Y)\n",
    "\n",
    "    # Make predictions using the testing set\n",
    "    #pred_Y_Lasso = regr_Lasso.predict(test_X)\n",
    "    \n",
    "    # rank company by predicted returns\n",
    "    #companies = test_tic\n",
    "    #pred = dict(zip(companies, pred_Y_Lasso))\n",
    "    #comp_ranked = sorted(pred, key=pred.__getitem__, reverse=True)\n",
    "    \n",
    "    # dictionary for returns\n",
    "    #best_tic = comp_ranked[:m]\n",
    "    #worst_tic = comp_ranked[-m:]\n",
    "    #returns = {}\n",
    "    #for j in best_tic:\n",
    "    #    returns[j] = x/m/2\n",
    "    #for j in worst_tic:\n",
    "    #    returns[j] = -x/m/2\n",
    "    \n",
    "     #############################################################################\n",
    "    \n",
    "    #convert to binary return of Buy/sell\n",
    "    train_Y = np.where(train_Y > np.repeat(0, len(train_Y)), \"Buy\",\"Sell\")\n",
    "\n",
    "    #create random forest object\n",
    "    #rf = RandomForestRegressor()\n",
    "    rf = RandomForestClassifier()\n",
    "    # Train the model on training data\n",
    "    rf.fit(train_X, train_Y);\n",
    "    #make predictions using testing set \n",
    "    pred_Y_rf = rf.predict(test_X)\n",
    "    \n",
    "    #print(pred_Y_rf)    \n",
    "    ################################################################################\n",
    "    #long the stocks that classify as Buy, and short the stocks that classify as sell\n",
    "    companies = test_tic\n",
    "    pred = dict(zip(companies, pred_Y_rf))\n",
    "\n",
    "    #################################################################################\n",
    "    #equal weighted dollar neutral portfolio#\n",
    "    #number of longing stocks to account for dollar-neutral\n",
    "    ls = np.where(pred_Y_rf == 'Buy', 1,0)\n",
    "    nl = sum(ls)\n",
    "    #print(nl)\n",
    "    \n",
    "     #number of shorting stocks to account for dollar-neutral\n",
    "    ss = np.where(pred_Y_rf == 'Sell',1,0)\n",
    "    ns = sum(ss)\n",
    "    #print(ns)\n",
    "    \n",
    "    returns = {}\n",
    "    for j in companies:\n",
    "        if pred[j] == 'Buy':\n",
    "            returns[j] = x/nl/2\n",
    "        else: \n",
    "            returns[j] = -x/ns/2\n",
    "    ###################################################################################    \n",
    "    \n",
    "    \n",
    "\n",
    "    \n",
    "    daily_returns,portfolio_return = portfolio_monthly_returns(response_time,files_list,returns_folder,returns,x)\n",
    "    print('portfolio_return for',response_time, 'is ',portfolio_return)\n",
    "    \n",
    "    #sharp = np.mean(daily_returns['portfolio_return'])/np.std(daily_returns['portfolio_return'])\n",
    "    #print('sharp ratio for',response_time, 'is ', sharp)\n",
    "    \n",
    "    portfolio_daily_returns = pd.concat([portfolio_daily_returns, daily_returns], ignore_index=True)\n",
    "    portfolio_returns.loc[i] = [pd.Timestamp(response_time),portfolio_return]\n",
    "    i = i+1\n",
    "    x = daily_returns.iloc[-1,1]"
   ]
  },
  {
   "cell_type": "code",
   "execution_count": 18,
   "metadata": {},
   "outputs": [
    {
     "data": {
      "text/plain": [
       "[<matplotlib.lines.Line2D at 0x1561973a390>]"
      ]
     },
     "execution_count": 18,
     "metadata": {},
     "output_type": "execute_result"
    },
    {
     "data": {
      "image/png": "[encoded data removed]",
      "text/plain": [
       "<Figure size 432x288 with 1 Axes>"
      ]
     },
     "metadata": {
      "needs_background": "light"
     },
     "output_type": "display_data"
    }
   ],
   "source": [
    "aggregate = [1]\n",
    "for i in portfolio_daily_returns['portfolio_return']:\n",
    "    aggregate.append(aggregate[-1]*(i+1))\n",
    "aggregate = aggregate[1:]\n",
    "plt.plot(portfolio_daily_returns['date'],aggregate)"
   ]
  },
  {
   "cell_type": "code",
   "execution_count": 19,
   "metadata": {},
   "outputs": [],
   "source": [
    "portfolio_daily_returns = portfolio_daily_returns.set_index(portfolio_daily_returns['date'])"
   ]
  },
  {
   "cell_type": "markdown",
   "metadata": {
    "collapsed": true
   },
   "source": [
    "## 3. output"
   ]
  },
  {
   "cell_type": "code",
   "execution_count": 20,
   "metadata": {},
   "outputs": [],
   "source": [
    "def mean_return(returns):\n",
    "    return 252*np.mean(returns)*100\n",
    "    \n",
    "def vol(returns):\n",
    "    return np.sqrt(252)*np.std(returns)*100\n",
    "\n",
    "def sharpe_ratio(returns):\n",
    "    return np.sqrt(252)*np.mean(returns)/np.std(returns)\n",
    "\n",
    "def Sortino(returns):\n",
    "    return np.sqrt(252)*np.mean(returns)/np.std(returns[returns<0])\n",
    "\n",
    "#def draw_down(returns):\n",
    "    "
   ]
  },
  {
   "cell_type": "code",
   "execution_count": 21,
   "metadata": {},
   "outputs": [
    {
     "name": "stdout",
     "output_type": "stream",
     "text": [
      "year 2011, mean return = 5.3954, Volatility = 3.3569, sharpe ratio = 1.6072, Sortino ratio = 2.3523\n",
      "year 2012, mean return = -1.1774, Volatility = 3.3611, sharpe ratio = -0.3503, Sortino ratio = -0.3752\n",
      "year 2013, mean return = 2.1913, Volatility = 2.1676, sharpe ratio = 1.0109, Sortino ratio = 1.4425\n",
      "year 2014, mean return = -0.9860, Volatility = 2.8868, sharpe ratio = -0.3416, Sortino ratio = -0.5090\n",
      "year 2015, mean return = 3.3979, Volatility = 4.2940, sharpe ratio = 0.7913, Sortino ratio = 1.1879\n",
      "year 2016, mean return = -1.4295, Volatility = 3.0653, sharpe ratio = -0.4663, Sortino ratio = -0.8155\n"
     ]
    }
   ],
   "source": [
    "for year in range(2011,2017):\n",
    "    returns = portfolio_daily_returns[str(year)+'-01-01':str(year+1)+'-01-01']['portfolio_return']\n",
    "    print('year %4d, mean return = %.4f, Volatility = %.4f, sharpe ratio = %.4f, Sortino ratio = %.4f' % \\\n",
    "          (year,mean_return(returns),vol(returns),sharpe_ratio(returns),Sortino(returns)))"
   ]
  },
  {
   "cell_type": "markdown",
   "metadata": {},
   "source": [
    "total portfolio return"
   ]
  },
  {
   "cell_type": "code",
   "execution_count": 22,
   "metadata": {},
   "outputs": [
    {
     "data": {
      "text/plain": [
       "0.0747127410475743"
      ]
     },
     "execution_count": 22,
     "metadata": {},
     "output_type": "execute_result"
    }
   ],
   "source": [
    "aggregate[-1]-1"
   ]
  },
  {
   "cell_type": "code",
   "execution_count": null,
   "metadata": {},
   "outputs": [],
   "source": []
  },
  {
   "cell_type": "code",
   "execution_count": null,
   "metadata": {},
   "outputs": [],
   "source": []
  },
  {
   "cell_type": "code",
   "execution_count": null,
   "metadata": {},
   "outputs": [],
   "source": []
  }
 ],
 "metadata": {
  "kernelspec": {
   "display_name": "Python 3",
   "language": "python",
   "name": "python3"
  },
  "language_info": {
   "codemirror_mode": {
    "name": "ipython",
    "version": 3
   },
   "file_extension": ".py",
   "mimetype": "text/x-python",
   "name": "python",
   "nbconvert_exporter": "python",
   "pygments_lexer": "ipython3",
   "version": "3.7.1"
  }
 },
 "nbformat": 4,
 "nbformat_minor": 2
}
