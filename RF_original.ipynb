{
 "cells": [
  {
   "cell_type": "markdown",
   "metadata": {},
   "source": [
    "# CQA Random Forest Prediction \n",
    "In this code file, we have converted the original code scheme of LASSO regression to a simple random forest classification scheme. \n",
    "In addition, there is a bug in the original code for backtesting that we fixed as well.\n",
    "Modified code sections are highlighted with red captions.(Color highlighter can be installed via the Jupyter nbextension package: https://jupyter-contrib-nbextensions.readthedocs.io/en/latest/nbextensions/highlighter/readme.html).\n",
    "\n",
    "delayed return  \n",
    "84_Q data"
   ]
  },
  {
   "cell_type": "code",
   "execution_count": 8,
   "metadata": {},
   "outputs": [
    {
     "data": {
      "text/plain": [
       "('64bit', 'WindowsPE')"
      ]
     },
     "execution_count": 8,
     "metadata": {},
     "output_type": "execute_result"
    }
   ],
   "source": [
    "#Import packages \n",
    "import pandas as pd\n",
    "import numpy as np\n",
    "import matplotlib.pyplot as plt\n",
    "%matplotlib inline \n",
    "import platform\n",
    "platform.architecture()"
   ]
  },
  {
   "cell_type": "markdown",
   "metadata": {},
   "source": [
    "### import alpha library"
   ]
  },
  {
   "cell_type": "code",
   "execution_count": 9,
   "metadata": {},
   "outputs": [],
   "source": [
    "# read data\n",
    "data_matrix1 = pd.read_csv(\"C:\\\\Users\\\\tony\\\\Desktop\\\\CQA\\\\data\\\\data_matrix_20_Q.csv\")\n",
    "data_matrix2 = pd.read_csv(\"C:\\\\Users\\\\tony\\\\Desktop\\\\CQA\\\\data\\\\data_matrix_21_to_40_Q.csv\")\n",
    "data_matrix3 = pd.read_csv(\"C:\\\\Users\\\\tony\\\\Desktop\\\\CQA\\\\data\\\\data_matrix_41_to_60_Q.csv\")\n",
    "data_matrix4 = pd.read_csv(\"C:\\\\Users\\\\tony\\\\Desktop\\\\CQA\\\\data\\\\data_matrix_61_to_84_Q.csv\")"
   ]
  },
  {
   "cell_type": "code",
   "execution_count": 10,
   "metadata": {},
   "outputs": [],
   "source": [
    "data_matrix = pd.concat([data_matrix1,data_matrix2,data_matrix3,data_matrix4],ignore_index=True)"
   ]
  },
  {
   "cell_type": "markdown",
   "metadata": {},
   "source": [
    "### monthly return"
   ]
  },
  {
   "cell_type": "code",
   "execution_count": 11,
   "metadata": {},
   "outputs": [],
   "source": [
    "monthly_returns = data_matrix[['asOfDate','tic','Return']]"
   ]
  },
  {
   "cell_type": "code",
   "execution_count": 12,
   "metadata": {},
   "outputs": [],
   "source": [
    "tics = data_matrix['tic']\n",
    "dates = data_matrix['asOfDate']\n",
    "dates = dates.apply(lambda x: x[:7])"
   ]
  },
  {
   "cell_type": "markdown",
   "metadata": {},
   "source": [
    "## 1. Data preprocess"
   ]
  },
  {
   "cell_type": "markdown",
   "metadata": {},
   "source": [
    "separate dates, returns (label) and alphas (data) from data matrix"
   ]
  },
  {
   "cell_type": "code",
   "execution_count": 13,
   "metadata": {},
   "outputs": [
    {
     "data": {
      "text/html": [
       "<div>\n",
       "<style scoped>\n",
       "    .dataframe tbody tr th:only-of-type {\n",
       "        vertical-align: middle;\n",
       "    }\n",
       "\n",
       "    .dataframe tbody tr th {\n",
       "        vertical-align: top;\n",
       "    }\n",
       "\n",
       "    .dataframe thead th {\n",
       "        text-align: right;\n",
       "    }\n",
       "</style>\n",
       "<table border=\"1\" class=\"dataframe\">\n",
       "  <thead>\n",
       "    <tr style=\"text-align: right;\">\n",
       "      <th></th>\n",
       "      <th>ALPHA_77</th>\n",
       "      <th>ALPHA_267</th>\n",
       "      <th>ALPHA_505</th>\n",
       "      <th>ALPHA_572</th>\n",
       "      <th>ALPHA_25</th>\n",
       "      <th>SPPIVY</th>\n",
       "      <th>ALPHA_129</th>\n",
       "      <th>ALPHA_264</th>\n",
       "      <th>OPMBD</th>\n",
       "      <th>OPMBD1</th>\n",
       "      <th>...</th>\n",
       "      <th>IBCOMY</th>\n",
       "      <th>DOQ</th>\n",
       "      <th>DOY</th>\n",
       "      <th>IBADJQ</th>\n",
       "      <th>IBQ</th>\n",
       "      <th>IBADJY</th>\n",
       "      <th>IBY</th>\n",
       "      <th>CSH12Q</th>\n",
       "      <th>CSHPRQ</th>\n",
       "      <th>CSHPRY</th>\n",
       "    </tr>\n",
       "  </thead>\n",
       "  <tbody>\n",
       "    <tr>\n",
       "      <th>0</th>\n",
       "      <td>-0.129319</td>\n",
       "      <td>0.053984</td>\n",
       "      <td>0.306399</td>\n",
       "      <td>0.346287</td>\n",
       "      <td>-0.066755</td>\n",
       "      <td>14.0</td>\n",
       "      <td>0.000000</td>\n",
       "      <td>2.028620</td>\n",
       "      <td>0.287070</td>\n",
       "      <td>0.287070</td>\n",
       "      <td>...</td>\n",
       "      <td>9705.0</td>\n",
       "      <td>0.0</td>\n",
       "      <td>0.0</td>\n",
       "      <td>3253.0</td>\n",
       "      <td>3253.0</td>\n",
       "      <td>9705.0</td>\n",
       "      <td>9705.0</td>\n",
       "      <td>905.3295</td>\n",
       "      <td>912.197</td>\n",
       "      <td>907.762</td>\n",
       "    </tr>\n",
       "    <tr>\n",
       "      <th>1</th>\n",
       "      <td>-0.273262</td>\n",
       "      <td>-0.003845</td>\n",
       "      <td>0.233960</td>\n",
       "      <td>-0.231986</td>\n",
       "      <td>-0.166918</td>\n",
       "      <td>-771.0</td>\n",
       "      <td>1.056310</td>\n",
       "      <td>-1.211370</td>\n",
       "      <td>0.295827</td>\n",
       "      <td>0.295827</td>\n",
       "      <td>...</td>\n",
       "      <td>5617.0</td>\n",
       "      <td>0.0</td>\n",
       "      <td>0.0</td>\n",
       "      <td>2741.0</td>\n",
       "      <td>3123.0</td>\n",
       "      <td>5331.0</td>\n",
       "      <td>6305.0</td>\n",
       "      <td>9102.1828</td>\n",
       "      <td>9956.773</td>\n",
       "      <td>9570.166</td>\n",
       "    </tr>\n",
       "    <tr>\n",
       "      <th>2</th>\n",
       "      <td>-0.323743</td>\n",
       "      <td>0.103459</td>\n",
       "      <td>0.204940</td>\n",
       "      <td>0.259946</td>\n",
       "      <td>1.604720</td>\n",
       "      <td>-1061.0</td>\n",
       "      <td>1.980420</td>\n",
       "      <td>-0.135714</td>\n",
       "      <td>0.300105</td>\n",
       "      <td>0.300105</td>\n",
       "      <td>...</td>\n",
       "      <td>6917.0</td>\n",
       "      <td>-3.0</td>\n",
       "      <td>208.0</td>\n",
       "      <td>2674.0</td>\n",
       "      <td>2700.0</td>\n",
       "      <td>6860.0</td>\n",
       "      <td>6917.0</td>\n",
       "      <td>23195.6250</td>\n",
       "      <td>28849.400</td>\n",
       "      <td>28646.900</td>\n",
       "    </tr>\n",
       "    <tr>\n",
       "      <th>3</th>\n",
       "      <td>-0.055053</td>\n",
       "      <td>0.058377</td>\n",
       "      <td>0.426733</td>\n",
       "      <td>2.559450</td>\n",
       "      <td>-0.082981</td>\n",
       "      <td>NaN</td>\n",
       "      <td>0.536183</td>\n",
       "      <td>0.816442</td>\n",
       "      <td>0.414490</td>\n",
       "      <td>0.414490</td>\n",
       "      <td>...</td>\n",
       "      <td>18760.0</td>\n",
       "      <td>0.0</td>\n",
       "      <td>0.0</td>\n",
       "      <td>4518.0</td>\n",
       "      <td>4518.0</td>\n",
       "      <td>18760.0</td>\n",
       "      <td>18760.0</td>\n",
       "      <td>8813.0000</td>\n",
       "      <td>8712.000</td>\n",
       "      <td>8813.000</td>\n",
       "    </tr>\n",
       "    <tr>\n",
       "      <th>4</th>\n",
       "      <td>-0.127456</td>\n",
       "      <td>0.058582</td>\n",
       "      <td>0.412080</td>\n",
       "      <td>1.127290</td>\n",
       "      <td>-0.024606</td>\n",
       "      <td>0.0</td>\n",
       "      <td>0.000000</td>\n",
       "      <td>1.159110</td>\n",
       "      <td>0.396041</td>\n",
       "      <td>0.396041</td>\n",
       "      <td>...</td>\n",
       "      <td>3795.0</td>\n",
       "      <td>0.0</td>\n",
       "      <td>0.0</td>\n",
       "      <td>1840.0</td>\n",
       "      <td>1840.0</td>\n",
       "      <td>3795.0</td>\n",
       "      <td>3795.0</td>\n",
       "      <td>317.4950</td>\n",
       "      <td>318.350</td>\n",
       "      <td>318.123</td>\n",
       "    </tr>\n",
       "  </tbody>\n",
       "</table>\n",
       "<p>5 rows × 474 columns</p>\n",
       "</div>"
      ],
      "text/plain": [
       "   ALPHA_77  ALPHA_267  ALPHA_505  ALPHA_572  ALPHA_25  SPPIVY  ALPHA_129  \\\n",
       "0 -0.129319   0.053984   0.306399   0.346287 -0.066755    14.0   0.000000   \n",
       "1 -0.273262  -0.003845   0.233960  -0.231986 -0.166918  -771.0   1.056310   \n",
       "2 -0.323743   0.103459   0.204940   0.259946  1.604720 -1061.0   1.980420   \n",
       "3 -0.055053   0.058377   0.426733   2.559450 -0.082981     NaN   0.536183   \n",
       "4 -0.127456   0.058582   0.412080   1.127290 -0.024606     0.0   0.000000   \n",
       "\n",
       "   ALPHA_264     OPMBD    OPMBD1    ...       IBCOMY  DOQ    DOY  IBADJQ  \\\n",
       "0   2.028620  0.287070  0.287070    ...       9705.0  0.0    0.0  3253.0   \n",
       "1  -1.211370  0.295827  0.295827    ...       5617.0  0.0    0.0  2741.0   \n",
       "2  -0.135714  0.300105  0.300105    ...       6917.0 -3.0  208.0  2674.0   \n",
       "3   0.816442  0.414490  0.414490    ...      18760.0  0.0    0.0  4518.0   \n",
       "4   1.159110  0.396041  0.396041    ...       3795.0  0.0    0.0  1840.0   \n",
       "\n",
       "      IBQ   IBADJY      IBY      CSH12Q     CSHPRQ     CSHPRY  \n",
       "0  3253.0   9705.0   9705.0    905.3295    912.197    907.762  \n",
       "1  3123.0   5331.0   6305.0   9102.1828   9956.773   9570.166  \n",
       "2  2700.0   6860.0   6917.0  23195.6250  28849.400  28646.900  \n",
       "3  4518.0  18760.0  18760.0   8813.0000   8712.000   8813.000  \n",
       "4  1840.0   3795.0   3795.0    317.4950    318.350    318.123  \n",
       "\n",
       "[5 rows x 474 columns]"
      ]
     },
     "execution_count": 13,
     "metadata": {},
     "output_type": "execute_result"
    }
   ],
   "source": [
    "mask = [i for i in range(14,488)]\n",
    "alpha_library = data_matrix.iloc[:,mask]\n",
    "alpha_library.head()"
   ]
  },
  {
   "cell_type": "markdown",
   "metadata": {},
   "source": [
    "### Function1: delete columns with too many nan \n",
    "input:    \n",
    "data -- dataframe;   \n",
    "ratio -- threshold of (number of NA's)/(data size);\n",
    "      \n",
    "output:    \n",
    "data -- dataframe which the ratio less than threshold ratio"
   ]
  },
  {
   "cell_type": "code",
   "execution_count": 14,
   "metadata": {},
   "outputs": [],
   "source": [
    "# delete columns with too many nan\n",
    "def delete_columns_with_too_many_nan(data, ratio):\n",
    "    return data.loc[:,data.isnull().mean()<(ratio)]"
   ]
  },
  {
   "cell_type": "markdown",
   "metadata": {},
   "source": [
    "After delete all the alpha with >0.1 NA's, the alpha library contains 464 alphas."
   ]
  },
  {
   "cell_type": "code",
   "execution_count": 15,
   "metadata": {},
   "outputs": [
    {
     "data": {
      "text/plain": [
       "(252000, 474)"
      ]
     },
     "execution_count": 15,
     "metadata": {},
     "output_type": "execute_result"
    }
   ],
   "source": [
    "alpha_library = delete_columns_with_too_many_nan(alpha_library, 0.1)\n",
    "alpha_library.shape"
   ]
  },
  {
   "cell_type": "markdown",
   "metadata": {},
   "source": [
    "### Function2: replace NA's with mean in the column"
   ]
  },
  {
   "cell_type": "code",
   "execution_count": 16,
   "metadata": {},
   "outputs": [],
   "source": [
    "# replace nan with mean\n",
    "def replace_nan_with_mean(data):\n",
    "    col_names = list(data)\n",
    "    col_mean = np.nanmean(data, axis=0)\n",
    "    values = {}\n",
    "    for i in range(len(col_names)):\n",
    "        values[col_names[i]] = col_mean[i]\n",
    "    return data.fillna(values)"
   ]
  },
  {
   "cell_type": "code",
   "execution_count": 17,
   "metadata": {},
   "outputs": [],
   "source": [
    "alpha_library = replace_nan_with_mean(alpha_library)"
   ]
  },
  {
   "cell_type": "markdown",
   "metadata": {},
   "source": [
    "### Function3: data mask\n",
    "input:   \n",
    "start_year,start_quarter,train_time,delay\n",
    "\n",
    "output:   \n",
    "training data"
   ]
  },
  {
   "cell_type": "code",
   "execution_count": 18,
   "metadata": {},
   "outputs": [],
   "source": [
    "def monthly_delay(start_year,start_month,delay):\n",
    "    if start_month<10:\n",
    "        start_time = str(start_year)+'-0'+str(start_month)\n",
    "    else:\n",
    "        start_time = str(start_year)+'-'+str(start_month)    \n",
    "    \n",
    "    response_month = start_month+delay\n",
    "    if response_month>12:\n",
    "        response_year = start_year+1\n",
    "        response_month = response_month-12\n",
    "    else:\n",
    "        response_year = start_year\n",
    "        \n",
    "    if response_month<10:\n",
    "        response_time = str(response_year)+'-0'+str(response_month)\n",
    "    else:\n",
    "        response_time = str(response_year)+'-'+str(response_month)\n",
    "        \n",
    "    return start_time,response_time\n"
   ]
  },
  {
   "cell_type": "markdown",
   "metadata": {},
   "source": [
    "<div class=\"burk\">\n",
    "    At this point, if we just leave the code as it is, then testing set would be the same as the training set. \n",
    "    In other words, train_x would be in the same period as test_x, while train_Y would be in the same period as test_Y.\n",
    "    And thus the backtesting would be invalid..\n",
    "    \n",
    "    Therefore, we have proposed to roll over the testing dataset one month, and the following convert_to_test function implements this goal.\n",
    "</div><i class=\"fa fa-lightbulb-o \"></i>"
   ]
  },
  {
   "cell_type": "code",
   "execution_count": 19,
   "metadata": {},
   "outputs": [],
   "source": [
    "\n",
    "def convert_to_test(start_year,start_month,delay):\n",
    "    #normal addition process\n",
    "    #if start_month <12:\n",
    "    if start_month <9:\n",
    "        start_yr = start_year\n",
    "        #start_m = start_month +1\n",
    "        start_m = start_month +delay\n",
    "        \n",
    "    #adding another year\n",
    "    else: \n",
    "        start_yr = start_year + 1 \n",
    "        #start_m = 1 \n",
    "        start_m = start_month + delay - 12\n",
    "    \n",
    "    return start_yr, start_m \n"
   ]
  },
  {
   "cell_type": "code",
   "execution_count": 20,
   "metadata": {},
   "outputs": [],
   "source": [
    "def retrive_train(alpha_library,monthly_returns,dates,tics,start_year,start_month,delay):\n",
    "    start_time,response_time = monthly_delay(start_year,start_month,delay)\n",
    "    \n",
    "    train_mask = dates == start_time\n",
    "    train_alpha  = alpha_library[train_mask]\n",
    "    train_tic = list(tics[train_mask])\n",
    "    \n",
    "    ###\n",
    "    response_mask = dates == response_time\n",
    "    response_return = monthly_returns['Return'][response_mask]\n",
    "    response_tic = monthly_returns['tic'][response_mask]\n",
    "\n",
    "    # create a tic-return dictionary\n",
    "    response_dict = dict([(i,j) for i,j in zip(response_tic,response_return)])\n",
    "\n",
    "    # create returns\n",
    "    train_Y = np.zeros([train_alpha.shape[0],1])\n",
    "    for i in range(len(train_tic)):\n",
    "        if train_tic[i] in response_dict:\n",
    "            train_Y[i] = response_dict[train_tic[i]]\n",
    "        else:\n",
    "            train_Y[i] = None\n",
    "            \n",
    "    train_Y = pd.DataFrame(train_Y)\n",
    "    \n",
    "    # filter nan in returns\n",
    "    train_alpha['label'] = train_Y.values\n",
    "    train_Y = train_alpha.loc[~train_alpha['label'].isnull(),'label']\n",
    "    train_X = train_alpha.loc[~train_alpha['label'].isnull(),].drop(columns=['label'])\n",
    "\n",
    "    return train_X,train_Y"
   ]
  },
  {
   "cell_type": "code",
   "execution_count": 21,
   "metadata": {},
   "outputs": [],
   "source": [
    "def retrive_test(alpha_library,monthly_returns,dates,tics,start_year,start_month,delay):\n",
    "    start_time,response_time = monthly_delay(start_year,start_month,delay)\n",
    "    ###\n",
    "    test_mask = dates == start_time\n",
    "    test_X  = alpha_library[test_mask]\n",
    "    test_tic = list(tics[test_mask])\n",
    "\n",
    "    return test_X,test_tic,response_time"
   ]
  },
  {
   "cell_type": "markdown",
   "metadata": {},
   "source": [
    "## 2. Random Forest regression"
   ]
  },
  {
   "cell_type": "code",
   "execution_count": 22,
   "metadata": {},
   "outputs": [],
   "source": [
    "from sklearn import datasets, linear_model\n",
    "from sklearn.metrics import mean_squared_error, r2_score, explained_variance_score\n",
    "import warnings\n",
    "warnings.filterwarnings('ignore')"
   ]
  },
  {
   "cell_type": "code",
   "execution_count": 23,
   "metadata": {},
   "outputs": [],
   "source": [
    "#import data files\n",
    "import os \n",
    "returns_folder = \"C:\\\\Users\\\\tony\\\\Desktop\\\\CQA\\\\data\\\\dr\\\\\"\n",
    "files_list = os.listdir(returns_folder)\n",
    "files_list = sorted(files_list)"
   ]
  },
  {
   "cell_type": "markdown",
   "metadata": {},
   "source": [
    "There are two different strategy for the portfolio management.   \n",
    "(1) invest one (or negetive one) dollar every day for each company  \n",
    "(2) invest one(or negetive one) dollar in the beginning of every month for each company  \n",
    "\n",
    "The following function is based on assumption (2)."
   ]
  },
  {
   "cell_type": "code",
   "execution_count": 24,
   "metadata": {},
   "outputs": [],
   "source": [
    "def portfolio_monthly_returns(date,files_list,returns_folder,returns,x):\n",
    "    daily_returns = pd.DataFrame([], columns=('date','portfolio_value','portfolio_return'))\n",
    "    i = 0\n",
    "    for temp_file in files_list:\n",
    "        if date in temp_file:\n",
    "            return_temp = pd.read_csv(returns_folder+temp_file)\n",
    "            return_temp = return_temp.dropna()\n",
    "        \n",
    "            for j in range(return_temp.shape[0]):\n",
    "                if return_temp.iloc[j,0] in returns:\n",
    "                    comp_tic = return_temp.iloc[j,0]\n",
    "                    returns[comp_tic] = returns[comp_tic]*(1+return_temp.iloc[j,1])\n",
    "            daily_returns.loc[i] = [pd.Timestamp(temp_file[:10]),x+sum(returns.values()),None]\n",
    "            if i>0:\n",
    "                daily_returns['portfolio_return'][i] = (daily_returns['portfolio_value'][i]-daily_returns['portfolio_value'][i-1])/daily_returns['portfolio_value'][i-1]\n",
    "            else:\n",
    "                daily_returns['portfolio_return'][i] = (daily_returns['portfolio_value'][i]-x)/x\n",
    "            i = i+1\n",
    "    month_return = (daily_returns['portfolio_value'][i-1]-x)/x\n",
    "\n",
    "    return daily_returns,month_return "
   ]
  },
  {
   "cell_type": "markdown",
   "metadata": {},
   "source": [
    "<div class=\"burk\">\n",
    "    The following iterative algorithm performs a backtesting of Random Forest Prediction based on the specified dataset.s\n",
    "    We have include the convert_to_test function to roll over testing set one month, to fix the bug in the code.\n",
    "    \n",
    "</div><i class=\"fa fa-lightbulb-o \"></i>"
   ]
  },
  {
   "cell_type": "code",
   "execution_count": 25,
   "metadata": {},
   "outputs": [
    {
     "name": "stdout",
     "output_type": "stream",
     "text": [
      "portfolio_return for 2011-05 is  0.005259231623340188\n",
      "portfolio_return for 2011-06 is  0.01257541928316422\n",
      "portfolio_return for 2011-07 is  -0.0008087966022396766\n",
      "portfolio_return for 2011-08 is  0.0033767231353075008\n",
      "portfolio_return for 2011-09 is  0.007844401561804108\n",
      "portfolio_return for 2011-10 is  0.0023860036994668814\n",
      "portfolio_return for 2011-11 is  5.47446863912463e-05\n",
      "portfolio_return for 2011-12 is  -0.002837760646312245\n",
      "portfolio_return for 2012-01 is  0.014540563412683812\n",
      "portfolio_return for 2012-02 is  -0.00013582509606075514\n",
      "portfolio_return for 2012-03 is  0.011327495722335015\n",
      "portfolio_return for 2012-04 is  0.002510300318641784\n",
      "portfolio_return for 2012-05 is  -0.007959913913255755\n",
      "portfolio_return for 2012-06 is  -0.0011093148406460373\n",
      "portfolio_return for 2012-07 is  0.006210557604297865\n",
      "portfolio_return for 2012-08 is  0.00021374518888158246\n",
      "portfolio_return for 2012-09 is  -0.013995649609519505\n",
      "portfolio_return for 2012-10 is  0.005699162093866223\n",
      "portfolio_return for 2012-11 is  0.007496871308875842\n",
      "portfolio_return for 2012-12 is  0.004917223220356613\n",
      "portfolio_return for 2013-01 is  0.0018831698271977073\n",
      "portfolio_return for 2013-02 is  0.002792472608385824\n",
      "portfolio_return for 2013-03 is  -0.00013147135197933986\n",
      "portfolio_return for 2013-04 is  0.01024936213414966\n",
      "portfolio_return for 2013-05 is  -0.0035229739236635675\n",
      "portfolio_return for 2013-06 is  0.001985005274402942\n",
      "portfolio_return for 2013-07 is  -0.0042694106331849025\n",
      "portfolio_return for 2013-08 is  0.003645951180230717\n",
      "portfolio_return for 2013-09 is  0.005422976121275739\n",
      "portfolio_return for 2013-10 is  0.006376974792737243\n",
      "portfolio_return for 2013-11 is  0.0005929275220414343\n",
      "portfolio_return for 2013-12 is  0.002576573685637233\n",
      "portfolio_return for 2014-01 is  -0.013023170767157827\n",
      "portfolio_return for 2014-02 is  0.0009681764408371487\n",
      "portfolio_return for 2014-03 is  -0.0017233935946082532\n",
      "portfolio_return for 2014-04 is  -0.0027501470051102947\n",
      "portfolio_return for 2014-05 is  0.007310873806060136\n",
      "portfolio_return for 2014-06 is  -0.009299674865175097\n",
      "portfolio_return for 2014-07 is  0.007335944433362326\n",
      "portfolio_return for 2014-08 is  0.0008016430289666266\n",
      "portfolio_return for 2014-09 is  0.0015476314902720125\n",
      "portfolio_return for 2014-10 is  -0.008547623054317005\n",
      "portfolio_return for 2014-11 is  0.009555524982302027\n",
      "portfolio_return for 2014-12 is  -0.0076949838684873895\n",
      "portfolio_return for 2015-01 is  0.006123996304749522\n",
      "portfolio_return for 2015-02 is  -0.0008770191355109099\n",
      "portfolio_return for 2015-03 is  0.0177829581669418\n",
      "portfolio_return for 2015-04 is  -0.007431760746676822\n",
      "portfolio_return for 2015-05 is  0.009619463651750275\n",
      "portfolio_return for 2015-06 is  0.013054843968318184\n",
      "portfolio_return for 2015-07 is  -0.012975360552023009\n",
      "portfolio_return for 2015-08 is  -0.004302773582666966\n",
      "portfolio_return for 2015-09 is  0.011321201020913094\n",
      "portfolio_return for 2015-10 is  -0.0030569553361711665\n",
      "portfolio_return for 2015-11 is  -0.012946967212877303\n",
      "portfolio_return for 2015-12 is  0.013409028621161058\n",
      "portfolio_return for 2016-01 is  0.015192166118401254\n",
      "portfolio_return for 2016-02 is  -0.005951198458207388\n",
      "portfolio_return for 2016-03 is  -0.014624923411765814\n",
      "portfolio_return for 2016-04 is  -0.021642323515435193\n",
      "portfolio_return for 2016-05 is  0.001201884620630736\n",
      "portfolio_return for 2016-06 is  0.0031162464953993587\n",
      "portfolio_return for 2016-07 is  0.001192244318410422\n",
      "portfolio_return for 2016-08 is  0.0010473215017046534\n",
      "portfolio_return for 2016-09 is  -0.0025544379089433057\n",
      "portfolio_return for 2016-10 is  0.010157515192039937\n",
      "portfolio_return for 2016-11 is  0.015443412363590883\n",
      "portfolio_return for 2016-12 is  -0.006479098585463433\n",
      "portfolio_return for 2017-01 is  -0.0003515805779851345\n",
      "portfolio_return for 2017-02 is  -0.009360486552159016\n",
      "portfolio_return for 2017-03 is  -0.007680839588695939\n",
      "portfolio_return for 2017-04 is  0.003445040504173459\n",
      "portfolio_return for 2017-05 is  0.004522576150278883\n",
      "portfolio_return for 2017-06 is  -0.0032319961464208013\n",
      "portfolio_return for 2017-07 is  0.0035421235858518947\n",
      "portfolio_return for 2017-08 is  0.003846325090045963\n"
     ]
    }
   ],
   "source": [
    "from sklearn.ensemble import RandomForestClassifier\n",
    "\n",
    "delay = 4 # delay\n",
    "m = 1500 # number_of_stocks\n",
    "portfolio_returns = pd.DataFrame([], columns=('date','portfolio_return'))\n",
    "portfolio_daily_returns = pd.DataFrame([], columns=('date','portfolio_value','portfolio_return'))\n",
    "i = 0\n",
    "set_dates = list(sorted(set(dates)))\n",
    "x = 1\n",
    "#for k in range(len(set_dates)-delay):\n",
    "#for k in range(len(set_dates)-delay-1):\n",
    "for k in range(len(set_dates)-delay-delay):\n",
    "    date = set_dates[i]\n",
    "    start_year = int(date[:4])\n",
    "    start_month = int(date[5:7])\n",
    "    \n",
    "    train_X,train_Y = retrive_train(alpha_library,monthly_returns,dates,tics,start_year,start_month,delay)\n",
    "    #test_X,test_tic,response_time = retrive_test(alpha_library,monthly_returns,dates,tics,start_year,start_month,delay)\n",
    "    \n",
    "    ###############################################\n",
    "    ##############################################\n",
    "    ##############################################\n",
    "    #roll over the relationship one period ahead, to fix the bug\n",
    "    start_y, start_m = convert_to_test(start_year,start_month,delay)\n",
    "    test_X,test_tic,response_time = retrive_test(alpha_library,monthly_returns,dates,tics,start_y,start_m,delay)\n",
    "    ################################################\n",
    "    ################################################\n",
    "    ###############################################\n",
    "\n",
    "    #convert to binary return of Buy/sell\n",
    "    train_Y = np.where(train_Y > np.repeat(0, len(train_Y)), \"Buy\",\"Sell\")\n",
    "\n",
    "    #create random forest object\n",
    "    rf = RandomForestClassifier()\n",
    "    # Train the model on training data\n",
    "    rf.fit(train_X, train_Y);\n",
    "    #make predictions using testing set \n",
    "    pred_Y_rf = rf.predict(test_X)\n",
    "    \n",
    "    #long the stocks that classify as Buy, and short the stocks that classify as sell\n",
    "    companies = test_tic\n",
    "    pred = dict(zip(companies, pred_Y_rf))\n",
    "\n",
    "    #create an equal weighted dollar-neutral portfolio#\n",
    "    \n",
    "    #number of longing stocks in the dollar-neutral portfolio\n",
    "    ls = np.where(pred_Y_rf == 'Buy', 1,0)\n",
    "    nl = sum(ls)\n",
    "    \n",
    "     #number of shorting stocks in the dollar-neutral portfolio\n",
    "    ss = np.where(pred_Y_rf == 'Sell',1,0)\n",
    "    ns = sum(ss)\n",
    "    \n",
    "    returns = {}\n",
    "    for j in companies:\n",
    "        if pred[j] == 'Buy':\n",
    "            returns[j] = x/nl/2\n",
    "        else: \n",
    "            returns[j] = -x/ns/2\n",
    "\n",
    "    \n",
    "    #calculate monthly portfolio return\n",
    "    daily_returns,portfolio_return = portfolio_monthly_returns(response_time,files_list,returns_folder,returns,x)\n",
    "    print('portfolio_return for',response_time, 'is ',portfolio_return)\n",
    "    \n",
    "    portfolio_daily_returns = pd.concat([portfolio_daily_returns, daily_returns], ignore_index=True)\n",
    "    portfolio_returns.loc[i] = [pd.Timestamp(response_time),portfolio_return]\n",
    "    i = i+1\n",
    "    x = daily_returns.iloc[-1,1]"
   ]
  },
  {
   "cell_type": "markdown",
   "metadata": {},
   "source": [
    "Portfolio "
   ]
  },
  {
   "cell_type": "code",
   "execution_count": 26,
   "metadata": {},
   "outputs": [
    {
     "data": {
      "text/plain": [
       "[<matplotlib.lines.Line2D at 0x1c9cdedf208>]"
      ]
     },
     "execution_count": 26,
     "metadata": {},
     "output_type": "execute_result"
    },
    {
     "data": {
      "image/png": "[encoded data removed]",
      "text/plain": [
       "<Figure size 432x288 with 1 Axes>"
      ]
     },
     "metadata": {
      "needs_background": "light"
     },
     "output_type": "display_data"
    }
   ],
   "source": [
    "aggregate = [1]\n",
    "for i in portfolio_daily_returns['portfolio_return']:\n",
    "    aggregate.append(aggregate[-1]*(i+1))\n",
    "aggregate = aggregate[1:]\n",
    "plt.plot(portfolio_daily_returns['date'],aggregate)"
   ]
  },
  {
   "cell_type": "code",
   "execution_count": 27,
   "metadata": {},
   "outputs": [],
   "source": [
    "portfolio_daily_returns = portfolio_daily_returns.set_index(portfolio_daily_returns['date'])"
   ]
  },
  {
   "cell_type": "markdown",
   "metadata": {
    "collapsed": true
   },
   "source": [
    "## 3. output"
   ]
  },
  {
   "cell_type": "code",
   "execution_count": 41,
   "metadata": {},
   "outputs": [],
   "source": [
    "def mean_return(returns):\n",
    "    return 252*np.mean(returns)*100\n",
    "    \n",
    "def vol(returns):\n",
    "    return np.sqrt(252)*np.std(returns)*100\n",
    "\n",
    "def sharpe_ratio(returns):\n",
    "    return np.sqrt(252)*np.mean(returns)/np.std(returns)\n",
    "\n",
    "def Sortino(returns):\n",
    "    return np.sqrt(252)*np.mean(returns)/np.std(returns[returns<0])\n",
    "\n",
    "def draw_down(returns):\n",
    "    # We are going to use a trailing 252 trading day window\n",
    "    window = 252\n",
    "    # Calculate the max drawdown in the past window days for each day in the series.\n",
    "    # Use min_periods=1 if you want to let the first 252 days data have an expanding window\n",
    "    #Roll_Max = pd.rolling_max(returns, window, min_periods=1)\n",
    "    \n",
    "    Roll_Max = returns.rolling(window,min_periods = 1).max()\n",
    "    Daily_Drawdown = returns/Roll_Max - 1.0\n",
    "\n",
    "    # Then we calculate the minimum daily drawdown, which is equivalent to maximum drawdown \n",
    "    # Again, use min_periods=1 if you want to allow the expanding window\n",
    "    #Max_Daily_Drawdown = pd.rolling_min(Daily_Drawdown, window, min_periods=1)\n",
    "    Max_Daily_Drawdown = Daily_Drawdown.rolling(window,min_periods = 1).min()\n",
    "    return Max_Daily_Drawdown\n",
    "    "
   ]
  },
  {
   "cell_type": "code",
   "execution_count": 47,
   "metadata": {},
   "outputs": [
    {
     "name": "stdout",
     "output_type": "stream",
     "text": [
      "-3.1904791294488803\n",
      "year 2011, mean return = 4.1393, Volatility = 3.9640, sharpe ratio = 1.0442, Max_Drawdown Rate = -3.1905, Sortino ratio = 1.2788\n",
      "-2.9847768223888425\n",
      "year 2012, mean return = 2.9904, Volatility = 2.9947, sharpe ratio = 0.9986, Max_Drawdown Rate = -2.9848, Sortino ratio = 1.2880\n",
      "-2.272647009671036\n",
      "year 2013, mean return = 2.7740, Volatility = 2.2667, sharpe ratio = 1.2238, Max_Drawdown Rate = -2.2726, Sortino ratio = 1.7779\n",
      "-7.930414450473524\n",
      "year 2014, mean return = -1.5474, Volatility = 2.6333, sharpe ratio = -0.5876, Max_Drawdown Rate = -7.9304, Sortino ratio = -0.9157\n",
      "-2.0120566610720285\n",
      "year 2015, mean return = 2.9798, Volatility = 3.8615, sharpe ratio = 0.7717, Max_Drawdown Rate = -2.0121, Sortino ratio = 1.1444\n",
      "-1.9422908392234541\n",
      "year 2016, mean return = -0.4121, Volatility = 3.0278, sharpe ratio = -0.1361, Max_Drawdown Rate = -1.9423, Sortino ratio = -0.2142\n"
     ]
    }
   ],
   "source": [
    "for year in range(2011,2017):\n",
    "    returns = portfolio_daily_returns[str(year)+'-01-01':str(year+1)+'-01-01']['portfolio_return']\n",
    "    #print(len(returns))\n",
    "    print(draw_down(returns)[-1])\n",
    "    print('year %4d, mean return = %.4f, Volatility = %.4f, sharpe ratio = %.4f, Max_Drawdown Rate = %.4f, Sortino ratio = %.4f' % \\\n",
    "          (year,mean_return(returns),vol(returns),sharpe_ratio(returns),draw_down(returns)[-1],Sortino(returns)))"
   ]
  },
  {
   "cell_type": "markdown",
   "metadata": {},
   "source": [
    "<div class=\"burk\">\n",
    "Once we have fix the bug, total portfolio return is positive! \n",
    "    Please note that we haven't used any future information at each step of the iterative backtest. (this is a common error in backtesting!).\n",
    "</div><i class=\"fa fa-lightbulb-o \"></i>"
   ]
  },
  {
   "cell_type": "code",
   "execution_count": 48,
   "metadata": {},
   "outputs": [
    {
     "data": {
      "text/plain": [
       "0.09177618620860595"
      ]
     },
     "execution_count": 48,
     "metadata": {},
     "output_type": "execute_result"
    }
   ],
   "source": [
    "aggregate[-1]-1"
   ]
  },
  {
   "cell_type": "code",
   "execution_count": null,
   "metadata": {},
   "outputs": [],
   "source": []
  },
  {
   "cell_type": "code",
   "execution_count": null,
   "metadata": {},
   "outputs": [],
   "source": []
  },
  {
   "cell_type": "code",
   "execution_count": null,
   "metadata": {},
   "outputs": [],
   "source": []
  }
 ],
 "metadata": {
  "kernelspec": {
   "display_name": "Python 3",
   "language": "python",
   "name": "python3"
  },
  "language_info": {
   "codemirror_mode": {
    "name": "ipython",
    "version": 3
   },
   "file_extension": ".py",
   "mimetype": "text/x-python",
   "name": "python",
   "nbconvert_exporter": "python",
   "pygments_lexer": "ipython3",
   "version": "3.7.1"
  }
 },
 "nbformat": 4,
 "nbformat_minor": 2
}
