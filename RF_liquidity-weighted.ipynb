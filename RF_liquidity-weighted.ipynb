{
 "cells": [
  {
   "cell_type": "markdown",
   "metadata": {},
   "source": [
    "# CQA Random Forest Prediction with Liquidity-adjusted Portfolio Weights\n",
    "\n",
    "In this code file, we have build upon the simple random forest classification scheme, by including a liquidity-adjusted portfolio weights scheme.\n",
    "\n",
    "Essentially, rather than longing all the stocks that model predict as generating positive return, we only take long positions in the stocks that are in the top 25th Percentile rank in terms of stock liquidity.\n",
    "\n",
    "Note: In this code scheme, liquidity refers to market cap* total trading volume.\n",
    "\n",
    "delayed return  \n",
    "84_Q data"
   ]
  },
  {
   "cell_type": "code",
   "execution_count": 2,
   "metadata": {},
   "outputs": [],
   "source": [
    "#Import packages\n",
    "import pandas as pd\n",
    "import numpy as np\n",
    "import matplotlib.pyplot as plt\n",
    "%matplotlib inline  "
   ]
  },
  {
   "cell_type": "markdown",
   "metadata": {},
   "source": [
    "### import alpha library"
   ]
  },
  {
   "cell_type": "code",
   "execution_count": 3,
   "metadata": {},
   "outputs": [],
   "source": [
    "# read data\n",
    "data_matrix1 = pd.read_csv(\"C:\\\\Users\\\\tony\\\\Desktop\\\\CQA\\\\data\\\\data_matrix_20_Q.csv\")\n",
    "data_matrix2 = pd.read_csv(\"C:\\\\Users\\\\tony\\\\Desktop\\\\CQA\\\\data\\\\data_matrix_21_to_40_Q.csv\")\n",
    "data_matrix3 = pd.read_csv(\"C:\\\\Users\\\\tony\\\\Desktop\\\\CQA\\\\data\\\\data_matrix_41_to_60_Q.csv\")\n",
    "data_matrix4 = pd.read_csv(\"C:\\\\Users\\\\tony\\\\Desktop\\\\CQA\\\\data\\\\data_matrix_61_to_84_Q.csv\")"
   ]
  },
  {
   "cell_type": "code",
   "execution_count": 4,
   "metadata": {},
   "outputs": [],
   "source": [
    "data_matrix = pd.concat([data_matrix1,data_matrix2,data_matrix3,data_matrix4],ignore_index=True)"
   ]
  },
  {
   "cell_type": "markdown",
   "metadata": {},
   "source": [
    "### monthly return"
   ]
  },
  {
   "cell_type": "code",
   "execution_count": 5,
   "metadata": {},
   "outputs": [],
   "source": [
    "monthly_returns = data_matrix[['asOfDate','tic','Return']]"
   ]
  },
  {
   "cell_type": "code",
   "execution_count": 6,
   "metadata": {},
   "outputs": [],
   "source": [
    "tics = data_matrix['tic']\n",
    "dates = data_matrix['asOfDate']\n",
    "dates = dates.apply(lambda x: x[:7])"
   ]
  },
  {
   "cell_type": "code",
   "execution_count": 7,
   "metadata": {},
   "outputs": [
    {
     "data": {
      "text/plain": [
       "0         2010-09\n",
       "1         2010-09\n",
       "2         2010-09\n",
       "3         2010-09\n",
       "4         2010-09\n",
       "5         2010-09\n",
       "6         2010-09\n",
       "7         2010-09\n",
       "8         2010-09\n",
       "9         2010-09\n",
       "10        2010-09\n",
       "11        2010-09\n",
       "12        2010-09\n",
       "13        2010-09\n",
       "14        2010-09\n",
       "15        2010-09\n",
       "16        2010-09\n",
       "17        2010-09\n",
       "18        2010-09\n",
       "19        2010-09\n",
       "20        2010-09\n",
       "21        2010-09\n",
       "22        2010-09\n",
       "23        2010-09\n",
       "24        2010-09\n",
       "25        2010-09\n",
       "26        2010-09\n",
       "27        2010-09\n",
       "28        2010-09\n",
       "29        2010-09\n",
       "           ...   \n",
       "251970    2017-08\n",
       "251971    2017-08\n",
       "251972    2017-08\n",
       "251973    2017-08\n",
       "251974    2017-08\n",
       "251975    2017-08\n",
       "251976    2017-08\n",
       "251977    2017-08\n",
       "251978    2017-08\n",
       "251979    2017-08\n",
       "251980    2017-08\n",
       "251981    2017-08\n",
       "251982    2017-08\n",
       "251983    2017-08\n",
       "251984    2017-08\n",
       "251985    2017-08\n",
       "251986    2017-08\n",
       "251987    2017-08\n",
       "251988    2017-08\n",
       "251989    2017-08\n",
       "251990    2017-08\n",
       "251991    2017-08\n",
       "251992    2017-08\n",
       "251993    2017-08\n",
       "251994    2017-08\n",
       "251995    2017-08\n",
       "251996    2017-08\n",
       "251997    2017-08\n",
       "251998    2017-08\n",
       "251999    2017-08\n",
       "Name: asOfDate, Length: 252000, dtype: object"
      ]
     },
     "execution_count": 7,
     "metadata": {},
     "output_type": "execute_result"
    }
   ],
   "source": [
    "dates"
   ]
  },
  {
   "cell_type": "markdown",
   "metadata": {},
   "source": [
    "## 1. Data preprocess"
   ]
  },
  {
   "cell_type": "markdown",
   "metadata": {},
   "source": [
    "separate dates, returns (label) and alphas (data) from data matrix"
   ]
  },
  {
   "cell_type": "code",
   "execution_count": 8,
   "metadata": {},
   "outputs": [
    {
     "data": {
      "text/html": [
       "<div>\n",
       "<style scoped>\n",
       "    .dataframe tbody tr th:only-of-type {\n",
       "        vertical-align: middle;\n",
       "    }\n",
       "\n",
       "    .dataframe tbody tr th {\n",
       "        vertical-align: top;\n",
       "    }\n",
       "\n",
       "    .dataframe thead th {\n",
       "        text-align: right;\n",
       "    }\n",
       "</style>\n",
       "<table border=\"1\" class=\"dataframe\">\n",
       "  <thead>\n",
       "    <tr style=\"text-align: right;\">\n",
       "      <th></th>\n",
       "      <th>ALPHA_77</th>\n",
       "      <th>ALPHA_267</th>\n",
       "      <th>ALPHA_505</th>\n",
       "      <th>ALPHA_572</th>\n",
       "      <th>ALPHA_25</th>\n",
       "      <th>SPPIVY</th>\n",
       "      <th>ALPHA_129</th>\n",
       "      <th>ALPHA_264</th>\n",
       "      <th>OPMBD</th>\n",
       "      <th>OPMBD1</th>\n",
       "      <th>...</th>\n",
       "      <th>DOQ</th>\n",
       "      <th>DOY</th>\n",
       "      <th>IBADJQ</th>\n",
       "      <th>IBQ</th>\n",
       "      <th>IBADJY</th>\n",
       "      <th>IBY</th>\n",
       "      <th>CSH12Q</th>\n",
       "      <th>CSHPRQ</th>\n",
       "      <th>CSHPRY</th>\n",
       "      <th>LIQUIDITY.1</th>\n",
       "    </tr>\n",
       "  </thead>\n",
       "  <tbody>\n",
       "    <tr>\n",
       "      <th>0</th>\n",
       "      <td>-0.129319</td>\n",
       "      <td>0.053984</td>\n",
       "      <td>0.306399</td>\n",
       "      <td>0.346287</td>\n",
       "      <td>-0.066755</td>\n",
       "      <td>14.0</td>\n",
       "      <td>0.000000</td>\n",
       "      <td>2.028620</td>\n",
       "      <td>0.287070</td>\n",
       "      <td>0.287070</td>\n",
       "      <td>...</td>\n",
       "      <td>0.0</td>\n",
       "      <td>0.0</td>\n",
       "      <td>3253.0</td>\n",
       "      <td>3253.0</td>\n",
       "      <td>9705.0</td>\n",
       "      <td>9705.0</td>\n",
       "      <td>905.3295</td>\n",
       "      <td>912.197</td>\n",
       "      <td>907.762</td>\n",
       "      <td>5363.250030</td>\n",
       "    </tr>\n",
       "    <tr>\n",
       "      <th>1</th>\n",
       "      <td>-0.273262</td>\n",
       "      <td>-0.003845</td>\n",
       "      <td>0.233960</td>\n",
       "      <td>-0.231986</td>\n",
       "      <td>-0.166918</td>\n",
       "      <td>-771.0</td>\n",
       "      <td>1.056310</td>\n",
       "      <td>-1.211370</td>\n",
       "      <td>0.295827</td>\n",
       "      <td>0.295827</td>\n",
       "      <td>...</td>\n",
       "      <td>0.0</td>\n",
       "      <td>0.0</td>\n",
       "      <td>2741.0</td>\n",
       "      <td>3123.0</td>\n",
       "      <td>5331.0</td>\n",
       "      <td>6305.0</td>\n",
       "      <td>9102.1828</td>\n",
       "      <td>9956.773</td>\n",
       "      <td>9570.166</td>\n",
       "      <td>1891.193156</td>\n",
       "    </tr>\n",
       "    <tr>\n",
       "      <th>2</th>\n",
       "      <td>-0.323743</td>\n",
       "      <td>0.103459</td>\n",
       "      <td>0.204940</td>\n",
       "      <td>0.259946</td>\n",
       "      <td>1.604720</td>\n",
       "      <td>-1061.0</td>\n",
       "      <td>1.980420</td>\n",
       "      <td>-0.135714</td>\n",
       "      <td>0.300105</td>\n",
       "      <td>0.300105</td>\n",
       "      <td>...</td>\n",
       "      <td>-3.0</td>\n",
       "      <td>208.0</td>\n",
       "      <td>2674.0</td>\n",
       "      <td>2700.0</td>\n",
       "      <td>6860.0</td>\n",
       "      <td>6917.0</td>\n",
       "      <td>23195.6250</td>\n",
       "      <td>28849.400</td>\n",
       "      <td>28646.900</td>\n",
       "      <td>1551.418943</td>\n",
       "    </tr>\n",
       "    <tr>\n",
       "      <th>3</th>\n",
       "      <td>-0.055053</td>\n",
       "      <td>0.058377</td>\n",
       "      <td>0.426733</td>\n",
       "      <td>2.559450</td>\n",
       "      <td>-0.082981</td>\n",
       "      <td>NaN</td>\n",
       "      <td>0.536183</td>\n",
       "      <td>0.816442</td>\n",
       "      <td>0.414490</td>\n",
       "      <td>0.414490</td>\n",
       "      <td>...</td>\n",
       "      <td>0.0</td>\n",
       "      <td>0.0</td>\n",
       "      <td>4518.0</td>\n",
       "      <td>4518.0</td>\n",
       "      <td>18760.0</td>\n",
       "      <td>18760.0</td>\n",
       "      <td>8813.0000</td>\n",
       "      <td>8712.000</td>\n",
       "      <td>8813.000</td>\n",
       "      <td>1474.759158</td>\n",
       "    </tr>\n",
       "    <tr>\n",
       "      <th>4</th>\n",
       "      <td>-0.127456</td>\n",
       "      <td>0.058582</td>\n",
       "      <td>0.412080</td>\n",
       "      <td>1.127290</td>\n",
       "      <td>-0.024606</td>\n",
       "      <td>0.0</td>\n",
       "      <td>0.000000</td>\n",
       "      <td>1.159110</td>\n",
       "      <td>0.396041</td>\n",
       "      <td>0.396041</td>\n",
       "      <td>...</td>\n",
       "      <td>0.0</td>\n",
       "      <td>0.0</td>\n",
       "      <td>1840.0</td>\n",
       "      <td>1840.0</td>\n",
       "      <td>3795.0</td>\n",
       "      <td>3795.0</td>\n",
       "      <td>317.4950</td>\n",
       "      <td>318.350</td>\n",
       "      <td>318.123</td>\n",
       "      <td>1353.579613</td>\n",
       "    </tr>\n",
       "  </tbody>\n",
       "</table>\n",
       "<p>5 rows × 475 columns</p>\n",
       "</div>"
      ],
      "text/plain": [
       "   ALPHA_77  ALPHA_267  ALPHA_505  ALPHA_572  ALPHA_25  SPPIVY  ALPHA_129  \\\n",
       "0 -0.129319   0.053984   0.306399   0.346287 -0.066755    14.0   0.000000   \n",
       "1 -0.273262  -0.003845   0.233960  -0.231986 -0.166918  -771.0   1.056310   \n",
       "2 -0.323743   0.103459   0.204940   0.259946  1.604720 -1061.0   1.980420   \n",
       "3 -0.055053   0.058377   0.426733   2.559450 -0.082981     NaN   0.536183   \n",
       "4 -0.127456   0.058582   0.412080   1.127290 -0.024606     0.0   0.000000   \n",
       "\n",
       "   ALPHA_264     OPMBD    OPMBD1     ...       DOQ    DOY  IBADJQ     IBQ  \\\n",
       "0   2.028620  0.287070  0.287070     ...       0.0    0.0  3253.0  3253.0   \n",
       "1  -1.211370  0.295827  0.295827     ...       0.0    0.0  2741.0  3123.0   \n",
       "2  -0.135714  0.300105  0.300105     ...      -3.0  208.0  2674.0  2700.0   \n",
       "3   0.816442  0.414490  0.414490     ...       0.0    0.0  4518.0  4518.0   \n",
       "4   1.159110  0.396041  0.396041     ...       0.0    0.0  1840.0  1840.0   \n",
       "\n",
       "    IBADJY      IBY      CSH12Q     CSHPRQ     CSHPRY  LIQUIDITY.1  \n",
       "0   9705.0   9705.0    905.3295    912.197    907.762  5363.250030  \n",
       "1   5331.0   6305.0   9102.1828   9956.773   9570.166  1891.193156  \n",
       "2   6860.0   6917.0  23195.6250  28849.400  28646.900  1551.418943  \n",
       "3  18760.0  18760.0   8813.0000   8712.000   8813.000  1474.759158  \n",
       "4   3795.0   3795.0    317.4950    318.350    318.123  1353.579613  \n",
       "\n",
       "[5 rows x 475 columns]"
      ]
     },
     "execution_count": 8,
     "metadata": {},
     "output_type": "execute_result"
    }
   ],
   "source": [
    "mask = [i for i in list(range(14,488))+list(range(498,499))]\n",
    "alpha_library = data_matrix.iloc[:,mask]\n",
    "alpha_library.head()"
   ]
  },
  {
   "cell_type": "markdown",
   "metadata": {},
   "source": [
    "### Function1: delete columns with too many nan \n",
    "input:    \n",
    "data -- dataframe;   \n",
    "ratio -- threshold of (number of NA's)/(data size);\n",
    "      \n",
    "output:    \n",
    "data -- dataframe which the ratio less than threshold ratio"
   ]
  },
  {
   "cell_type": "code",
   "execution_count": 9,
   "metadata": {},
   "outputs": [],
   "source": [
    "# delete columns with too many nan\n",
    "def delete_columns_with_too_many_nan(data, ratio):\n",
    "    return data.loc[:,data.isnull().mean()<(ratio)]"
   ]
  },
  {
   "cell_type": "markdown",
   "metadata": {},
   "source": [
    "After delete all the alpha with >0.1 NA's, the alpha library contains 464 alphas."
   ]
  },
  {
   "cell_type": "code",
   "execution_count": 10,
   "metadata": {},
   "outputs": [
    {
     "data": {
      "text/plain": [
       "(252000, 475)"
      ]
     },
     "execution_count": 10,
     "metadata": {},
     "output_type": "execute_result"
    }
   ],
   "source": [
    "alpha_library = delete_columns_with_too_many_nan(alpha_library, 0.1)\n",
    "alpha_library.shape"
   ]
  },
  {
   "cell_type": "markdown",
   "metadata": {},
   "source": [
    "### Function2: replace NA's with mean in the column"
   ]
  },
  {
   "cell_type": "code",
   "execution_count": 11,
   "metadata": {},
   "outputs": [],
   "source": [
    "# replace nan with mean\n",
    "def replace_nan_with_mean(data):\n",
    "    col_names = list(data)\n",
    "    col_mean = np.nanmean(data, axis=0)\n",
    "    values = {}\n",
    "    for i in range(len(col_names)):\n",
    "        values[col_names[i]] = col_mean[i]\n",
    "    return data.fillna(values)\n"
   ]
  },
  {
   "cell_type": "code",
   "execution_count": 12,
   "metadata": {},
   "outputs": [],
   "source": [
    "alpha_library = replace_nan_with_mean(alpha_library)"
   ]
  },
  {
   "cell_type": "markdown",
   "metadata": {},
   "source": [
    "### Function3: data mask\n",
    "input:   \n",
    "start_year,start_quarter,train_time,delay\n",
    "\n",
    "output:   \n",
    "training data"
   ]
  },
  {
   "cell_type": "code",
   "execution_count": 13,
   "metadata": {},
   "outputs": [],
   "source": [
    "def monthly_delay(start_year,start_month,delay):\n",
    "    if start_month<10:\n",
    "        start_time = str(start_year)+'-0'+str(start_month)\n",
    "    else:\n",
    "        start_time = str(start_year)+'-'+str(start_month)    \n",
    "    \n",
    "    response_month = start_month+delay\n",
    "    if response_month>12:\n",
    "        response_year = start_year+1\n",
    "        response_month = response_month-12\n",
    "    else:\n",
    "        response_year = start_year\n",
    "        \n",
    "    if response_month<10:\n",
    "        response_time = str(response_year)+'-0'+str(response_month)\n",
    "    else:\n",
    "        response_time = str(response_year)+'-'+str(response_month)\n",
    "        \n",
    "    return start_time,response_time\n",
    "\n",
    "\n",
    "#convert from the original start year and month to one month later on for testing sample\n",
    "def convert_to_test(start_year,start_month,delay):\n",
    "    #normal addition process\n",
    "    #if start_month <12:\n",
    "    if start_month <9:\n",
    "        start_yr = start_year\n",
    "        #start_m = start_month +1\n",
    "        start_m = start_month +delay\n",
    "        \n",
    "    #adding another year\n",
    "    else: \n",
    "        start_yr = start_year + 1 \n",
    "        #start_m = 1 \n",
    "        start_m = start_month + delay - 12\n",
    "    \n",
    "    return start_yr, start_m "
   ]
  },
  {
   "cell_type": "code",
   "execution_count": 14,
   "metadata": {},
   "outputs": [],
   "source": [
    "def retrive_train(alpha_library,monthly_returns,dates,tics,start_year,start_month,delay):\n",
    "    start_time,response_time = monthly_delay(start_year,start_month,delay)\n",
    "    \n",
    "    train_mask = dates == start_time\n",
    "    train_alpha  = alpha_library[train_mask]\n",
    "    train_tic = list(tics[train_mask])\n",
    "    \n",
    "    response_mask = dates == response_time\n",
    "    response_return = monthly_returns['Return'][response_mask]\n",
    "    response_tic = monthly_returns['tic'][response_mask]\n",
    "\n",
    "    # create a tic-return dictionary\n",
    "    response_dict = dict([(i,j) for i,j in zip(response_tic,response_return)])\n",
    "\n",
    "    # create returns\n",
    "    train_Y = np.zeros([train_alpha.shape[0],1])\n",
    "    for i in range(len(train_tic)):\n",
    "        if train_tic[i] in response_dict:\n",
    "            train_Y[i] = response_dict[train_tic[i]]\n",
    "        else:\n",
    "            train_Y[i] = None\n",
    "            \n",
    "    train_Y = pd.DataFrame(train_Y)\n",
    "    \n",
    "    # filter nan in returns\n",
    "    train_alpha['label'] = train_Y.values\n",
    "    train_Y = train_alpha.loc[~train_alpha['label'].isnull(),'label']\n",
    "    train_X = train_alpha.loc[~train_alpha['label'].isnull(),].drop(columns=['label','LIQUIDITY.1'])\n",
    "    liquidity_vec = train_alpha.loc[~train_alpha['label'].isnull(),'LIQUIDITY.1']\n",
    "\n",
    "    return train_X,train_Y,liquidity_vec"
   ]
  },
  {
   "cell_type": "code",
   "execution_count": 15,
   "metadata": {},
   "outputs": [],
   "source": [
    "def retrive_test(alpha_library,monthly_returns,dates,tics,start_year,start_month,delay):\n",
    "    start_time,response_time = monthly_delay(start_year,start_month,delay)\n",
    "    test_mask = dates == start_time\n",
    "    test_X_1  = alpha_library[test_mask]\n",
    "    test_X = test_X_1.drop(columns=['LIQUIDITY.1'])\n",
    "    test_tic = list(tics[test_mask])\n",
    "    liquidity_test = test_X_1.loc[:,'LIQUIDITY.1']\n",
    "\n",
    "    return test_X,test_tic,response_time,liquidity_test"
   ]
  },
  {
   "cell_type": "markdown",
   "metadata": {},
   "source": [
    "## 2. Random Forest Prediction with Liqudity-adjusted Weights"
   ]
  },
  {
   "cell_type": "code",
   "execution_count": 16,
   "metadata": {},
   "outputs": [],
   "source": [
    "from sklearn import datasets, linear_model\n",
    "from sklearn.metrics import mean_squared_error, r2_score, explained_variance_score\n",
    "import warnings\n",
    "warnings.filterwarnings('ignore')"
   ]
  },
  {
   "cell_type": "code",
   "execution_count": 17,
   "metadata": {},
   "outputs": [],
   "source": [
    "#import data files\n",
    "import os\n",
    "returns_folder = \"C:\\\\Users\\\\tony\\\\Desktop\\\\CQA\\\\data\\\\dr\\\\\"\n",
    "files_list = os.listdir(returns_folder)\n",
    "files_list = sorted(files_list)"
   ]
  },
  {
   "cell_type": "markdown",
   "metadata": {},
   "source": [
    "There are two different strategy for the portfolio management.   \n",
    "(1) invest one (or negetive one) dollar every day for each company  \n",
    "(2) invest one(or negetive one) dollar in the beginning of every month for each company  \n",
    "\n",
    "The following function is based on assumption (2)."
   ]
  },
  {
   "cell_type": "code",
   "execution_count": 18,
   "metadata": {},
   "outputs": [],
   "source": [
    "def portfolio_monthly_returns(date,files_list,returns_folder,returns,x):\n",
    "    daily_returns = pd.DataFrame([], columns=('date','portfolio_value','portfolio_return'))\n",
    "    i = 0\n",
    "    for temp_file in files_list:\n",
    "        if date in temp_file:\n",
    "            return_temp = pd.read_csv(returns_folder+temp_file)\n",
    "            return_temp = return_temp.dropna()\n",
    "        \n",
    "            for j in range(return_temp.shape[0]):\n",
    "                if return_temp.iloc[j,0] in returns:\n",
    "                    comp_tic = return_temp.iloc[j,0]\n",
    "                    returns[comp_tic] = returns[comp_tic]*(1+return_temp.iloc[j,1])\n",
    "            ###\n",
    "            daily_returns.loc[i] = [pd.Timestamp(temp_file[:10]),x+sum(returns.values()),None]\n",
    "            ###\n",
    "            #daily_returns.loc[i] = [pd.Timestamp(temp_file[:10]),1+sum(returns.values()),None]\n",
    "            if i>0:\n",
    "                daily_returns['portfolio_return'][i] = (daily_returns['portfolio_value'][i]-daily_returns['portfolio_value'][i-1])/daily_returns['portfolio_value'][i-1]\n",
    "                #daily_returns['portfolio_return'][i] = \n",
    "                \n",
    "            else:\n",
    "                daily_returns['portfolio_return'][i] = (daily_returns['portfolio_value'][i]-x)/x\n",
    "            i = i+1\n",
    "    month_return = (daily_returns['portfolio_value'][i-1]-x)/x\n",
    "\n",
    "    return daily_returns,month_return "
   ]
  },
  {
   "cell_type": "markdown",
   "metadata": {},
   "source": [
    "<span class=\"burk\">Function that adjust weights based on liquidity (i.e scaling_classify), and function that rebalance weights to ensure dollar-neutrality of the new portfolio</span>"
   ]
  },
  {
   "cell_type": "code",
   "execution_count": 19,
   "metadata": {},
   "outputs": [
    {
     "data": {
      "image/png": "[encoded data removed]",
      "text/plain": [
       "<Figure size 432x288 with 1 Axes>"
      ]
     },
     "metadata": {
      "needs_background": "light"
     },
     "output_type": "display_data"
    }
   ],
   "source": [
    "#get liquidity vector, that is defined as the product of market capitalization and trading volume.\n",
    "liquidity_v = data_matrix['LIQUIDITY.1']\n",
    "#print(liquidity_v)\n",
    "\n",
    "#import packages\n",
    "from scipy.stats import trim_mean, kurtosis\n",
    "from scipy.stats.mstats import mode, gmean, hmean\n",
    "\n",
    "#descriptive statistics of the liquidity vector\n",
    "liquidity_v.describe()\n",
    "hist = np.histogram(liquidity_v)\n",
    "hist\n",
    "\n",
    "import matplotlib.pyplot as plt\n",
    "plt.hist(x=liquidity_v,range=[0, 5500],bins = 300)\n",
    "axes = plt.gca()\n",
    "axes.set_ylim([0,3000])\n",
    "\n",
    "\n",
    "#function that assign portfolio weight-adjustment based on corresponding liqudity scale of the underlying stocks\n",
    "def scaling_classify(scaling_factor, liquidity_vector, threshold_vector):\n",
    "    #choose scaling based on quantiles and assign threshold_vector values\n",
    "    s1 = np.quantile(liquidity_vector, 0.25)\n",
    "    s2 = np.quantile(liquidity_vector, 0.5)\n",
    "    s3 = np.quantile(liquidity_vector, 0.75)\n",
    "    for i in range(len(scaling_factor)):\n",
    "        #case 1 (below 25th percentile)\n",
    "        if liquidity_vector[i] <s1:\n",
    "            scaling_factor[i] = threshold_vector[0]\n",
    "        #case 2 (between 25th percentile and 50th percentile)\n",
    "        elif liquidity_vector[i] >=s1 and liquidity_vector[i] <s2:\n",
    "            scaling_factor[i] = threshold_vector[1]\n",
    "        #case 3 (between 50th percentile and 75th percentile)\n",
    "        elif liquidity_vector[i] >=s2 and liquidity_vector[i]< s3:\n",
    "            scaling_factor[i] = threshold_vector[2]\n",
    "        #case 4 (above 75th percentile)\n",
    "        elif liquidity_vector[i] >=s3:\n",
    "            scaling_factor[i] = threshold_vector[3]\n",
    "        else:\n",
    "            return()\n",
    "    return(scaling_factor)\n",
    "    \n",
    "#function that ensure the dollar-neutrality of the newly adjusted portfolio\n",
    "def weight_balance(portfolio_pre_weights,scaling_factor,x):\n",
    "    total_sum = abs(np.dot(portfolio_pre_weights,scaling_factor))\n",
    "    if total_sum == x/2:\n",
    "        return(portfolio_pre_weights,scaling_factor)\n",
    "    elif total_sum < x/2:\n",
    "        rescaling = (x/2)/total_sum\n",
    "        portfolio_pre_weights = [rescaling*i for i in portfolio_pre_weights]\n",
    "        return(portfolio_pre_weights,scaling_factor)\n",
    "    elif total_sum > x/2:\n",
    "        rescaling = (x/2)/total_sum\n",
    "        portfolio_pre_weights = [rescaling*i for i in portfolio_pre_weights]\n",
    "        return(portfolio_pre_weights,scaling_factor)\n",
    "    else:\n",
    "        return()\n",
    "        \n",
    "     "
   ]
  },
  {
   "cell_type": "code",
   "execution_count": 21,
   "metadata": {
    "scrolled": false
   },
   "outputs": [
    {
     "name": "stdout",
     "output_type": "stream",
     "text": [
      "portfolio_return for 2011-05 is  0.0028271718017192082\n",
      "1.0028271718017192\n",
      "portfolio_return for 2011-06 is  0.008152233130380621\n",
      "1.011002452695727\n",
      "portfolio_return for 2011-07 is  -0.006961676950911088\n",
      "1.0039641802234807\n",
      "portfolio_return for 2011-08 is  0.017971959709944016\n",
      "1.022007384020684\n",
      "portfolio_return for 2011-09 is  0.01955958325482277\n",
      "1.0419974225354802\n",
      "portfolio_return for 2011-10 is  0.018157912576832365\n",
      "1.0609179206391641\n",
      "portfolio_return for 2011-11 is  0.003353588781212123\n",
      "1.0644758030756065\n",
      "portfolio_return for 2011-12 is  0.020475615259282254\n",
      "1.0862716000721981\n",
      "portfolio_return for 2012-01 is  0.010371573130033618\n",
      "1.0975379454114256\n",
      "portfolio_return for 2012-02 is  -0.0039982939773127325\n",
      "1.0931496660544149\n",
      "portfolio_return for 2012-03 is  0.0028390292297790524\n",
      "1.0962531499088666\n",
      "portfolio_return for 2012-04 is  0.0008889476250585767\n",
      "1.097227661542941\n",
      "portfolio_return for 2012-05 is  -0.00930872005340925\n",
      "1.087013876406781\n",
      "portfolio_return for 2012-06 is  -0.0005055456417625923\n",
      "1.086464341279028\n",
      "portfolio_return for 2012-07 is  0.0033831824067191434\n",
      "1.090140048323971\n",
      "portfolio_return for 2012-08 is  0.0003049482457722656\n",
      "1.0904724846193534\n",
      "portfolio_return for 2012-09 is  -0.015695219504011763\n",
      "1.0733572796101676\n",
      "portfolio_return for 2012-10 is  -0.0047961622071227995\n",
      "1.0682092839909612\n",
      "portfolio_return for 2012-11 is  0.008314695722975864\n",
      "1.077091119155804\n",
      "portfolio_return for 2012-12 is  0.0042014702518942\n",
      "1.0816164854515165\n",
      "portfolio_return for 2013-01 is  0.005906509430065363\n",
      "1.08800506342255\n",
      "portfolio_return for 2013-02 is  0.004006508171091926\n",
      "1.0923641645993418\n",
      "portfolio_return for 2013-03 is  0.011434914056166869\n",
      "1.1048552549395718\n",
      "portfolio_return for 2013-04 is  0.00441583373538805\n",
      "1.1097341120470547\n",
      "portfolio_return for 2013-05 is  -0.005356346292115882\n",
      "1.103789991850757\n",
      "portfolio_return for 2013-06 is  0.006924433070430548\n",
      "1.1114331117731386\n",
      "portfolio_return for 2013-07 is  -0.0016768146357206844\n",
      "1.1095694444646929\n",
      "portfolio_return for 2013-08 is  0.00632898652967502\n",
      "1.116591894532449\n",
      "portfolio_return for 2013-09 is  0.004241808486156155\n",
      "1.1213282635062498\n",
      "portfolio_return for 2013-10 is  0.0039300092838677764\n",
      "1.1257350939920927\n",
      "portfolio_return for 2013-11 is  -0.0026970728714670053\n",
      "1.1226989044096283\n",
      "portfolio_return for 2013-12 is  0.00984426927711301\n",
      "1.1337510547417564\n",
      "portfolio_return for 2014-01 is  -0.0022202200807118723\n",
      "1.1312338778834905\n",
      "portfolio_return for 2014-02 is  -0.0006582869053414787\n",
      "1.1304892014348011\n",
      "portfolio_return for 2014-03 is  -0.007222781699028881\n",
      "1.122323924719728\n",
      "portfolio_return for 2014-04 is  0.005945752648235538\n",
      "1.1289969851673085\n",
      "portfolio_return for 2014-05 is  0.01578638177012939\n",
      "1.1468197625924847\n",
      "portfolio_return for 2014-06 is  -0.005986704363874022\n",
      "1.1399540917151954\n",
      "portfolio_return for 2014-07 is  0.0062895673008892435\n",
      "1.1471239096949621\n",
      "portfolio_return for 2014-08 is  3.6080540112876435e-05\n",
      "1.1471652985452003\n",
      "portfolio_return for 2014-09 is  -0.003336391891599845\n",
      "1.1433379055448094\n",
      "portfolio_return for 2014-10 is  -0.002085745468354676\n",
      "1.1409531936895212\n",
      "portfolio_return for 2014-11 is  0.011781524636864016\n",
      "1.154395361850483\n",
      "portfolio_return for 2014-12 is  0.0008439400042851554\n",
      "1.1553696022771098\n",
      "portfolio_return for 2015-01 is  -0.0005506189631464322\n",
      "1.154733433864653\n",
      "portfolio_return for 2015-02 is  -0.009983708589698673\n",
      "1.1432049117621663\n",
      "portfolio_return for 2015-03 is  0.009731060781847477\n",
      "1.1543295082446305\n",
      "portfolio_return for 2015-04 is  -0.010691118921856327\n",
      "1.1419884341969793\n",
      "portfolio_return for 2015-05 is  0.021477659037699312\n",
      "1.166515672411658\n",
      "portfolio_return for 2015-06 is  0.006906809141350957\n",
      "1.1745725735214\n",
      "portfolio_return for 2015-07 is  -0.017980216798225247\n",
      "1.153453504004236\n",
      "portfolio_return for 2015-08 is  -0.004507352844169634\n",
      "1.148254482072345\n",
      "portfolio_return for 2015-09 is  -0.002183433854150546\n",
      "1.1457473443630082\n",
      "portfolio_return for 2015-10 is  0.0027698591191919657\n",
      "1.148920903093082\n",
      "portfolio_return for 2015-11 is  -0.00904294117546435\n",
      "1.13853127895115\n",
      "portfolio_return for 2015-12 is  0.014251620957980216\n",
      "1.1547571951875661\n",
      "portfolio_return for 2016-01 is  0.0007201505237489204\n",
      "1.1555887941864833\n",
      "portfolio_return for 2016-02 is  -0.005308845040611798\n",
      "1.1494539523474798\n",
      "portfolio_return for 2016-03 is  -0.005977170939384124\n",
      "1.1425834695873482\n",
      "portfolio_return for 2016-04 is  -0.027595037373662024\n",
      "1.111053836041557\n",
      "portfolio_return for 2016-05 is  -0.0022105415525569333\n",
      "1.1085978053698593\n",
      "portfolio_return for 2016-06 is  0.01681621285332868\n",
      "1.127240222033692\n",
      "portfolio_return for 2016-07 is  -0.0021787443824558945\n",
      "1.1247842537322577\n",
      "portfolio_return for 2016-08 is  0.011872272563866691\n",
      "1.1381379989681124\n",
      "portfolio_return for 2016-09 is  -0.001096779724922477\n",
      "1.1368897122866803\n",
      "portfolio_return for 2016-10 is  -0.008218750605826166\n",
      "1.1275458992750667\n",
      "portfolio_return for 2016-11 is  0.012154823291069221\n",
      "1.1412510204333248\n",
      "portfolio_return for 2016-12 is  -0.008903913889624466\n",
      "1.1310894196209405\n",
      "portfolio_return for 2017-01 is  -0.002090576359246925\n",
      "1.1287247908200866\n",
      "portfolio_return for 2017-02 is  -0.0035185905136067472\n",
      "1.1247532704786343\n",
      "portfolio_return for 2017-03 is  0.006377001811580646\n",
      "1.1319258241220578\n",
      "portfolio_return for 2017-04 is  0.0032848959660712823\n",
      "1.1356440826956082\n",
      "portfolio_return for 2017-05 is  0.021696708792090357\n",
      "1.1602838216493154\n",
      "portfolio_return for 2017-06 is  -0.008673183865777931\n",
      "1.1502204667276634\n",
      "portfolio_return for 2017-07 is  -0.0008978508958448013\n",
      "1.149187740251193\n",
      "portfolio_return for 2017-08 is  0.005867442207086093\n",
      "1.1559305329022087\n"
     ]
    },
    {
     "data": {
      "image/png": "[encoded data removed]",
      "text/plain": [
       "<Figure size 432x288 with 1 Axes>"
      ]
     },
     "metadata": {
      "needs_background": "light"
     },
     "output_type": "display_data"
    }
   ],
   "source": [
    "#Iterative algorithm that performs the backtesting \n",
    "from sklearn.ensemble import RandomForestClassifier\n",
    "from matplotlib.backends.backend_pdf import PdfPages\n",
    "\n",
    "#paramters to be assigned\n",
    "delay = 4 # delay\n",
    "m = 1500 # number_of_stocks\n",
    "portfolio_returns = pd.DataFrame([], columns=('date','portfolio_return'))\n",
    "portfolio_daily_returns = pd.DataFrame([], columns=('date','portfolio_value','portfolio_return'))\n",
    "i = 0\n",
    "set_dates = list(sorted(set(dates)))\n",
    "x = 1\n",
    "\n",
    "#for loop of the iterative algorithm\n",
    "for k in range(len(set_dates)-delay-delay):\n",
    "    date = set_dates[i]\n",
    "    start_year = int(date[:4])\n",
    "    start_month = int(date[5:7])\n",
    "    \n",
    "    train_X,train_Y,liquidity_train = retrive_train(alpha_library,monthly_returns,dates,tics,start_year,start_month,delay)\n",
    "    \n",
    "    ##############################################\n",
    "    #roll over the relationship one period ahead\n",
    "    #start_y, start_m = convert_to_test(start_year,start_month)\n",
    "    start_y, start_m = convert_to_test(start_year,start_month,delay)\n",
    "    test_X,test_tic,response_time,liquidity_test = retrive_test(alpha_library,monthly_returns,dates,tics,start_y,start_m,delay)\n",
    "    ################################################\n",
    "    \n",
    "    #convert to binary return of Buy/sell\n",
    "    train_Y = np.where(train_Y > np.repeat(0, len(train_Y)), \"Buy\",\"Sell\")\n",
    "\n",
    "    #create random forest object\n",
    "    #rf = RandomForestRegressor()\n",
    "    rf = RandomForestClassifier()\n",
    "    # Train the model on training data\n",
    "    rf.fit(train_X, train_Y);\n",
    "    #make predictions using testing set \n",
    "    pred_Y_rf = rf.predict(test_X)\n",
    "    \n",
    "    \n",
    "    #long the stocks that classify as Buy, and short the stocks that classify as sell\n",
    "    companies = test_tic\n",
    "    pred = dict(zip(companies, pred_Y_rf))\n",
    "\n",
    "    #################################################################################\n",
    "    #equal weighted dollar neutral portfolio#\n",
    "    #number of longing stocks to account for dollar-neutral\n",
    "    ls = np.where(pred_Y_rf == 'Buy', 1,0)\n",
    "    nl = sum(ls)\n",
    "    \n",
    "     #number of shorting stocks to account for dollar-neutral\n",
    "    ss = np.where(pred_Y_rf == 'Sell',1,0)\n",
    "    ns = sum(ss)\n",
    "    \n",
    "    ###################################################################################\n",
    "    \n",
    "    #create vector(for both long and short positions) for liquidity factor\n",
    "    #and then try to see distribution of the liquidity factor for each portfolio\n",
    "    lf_b = {}\n",
    "    lf_s = {}\n",
    "    lf_all = {}\n",
    "    combined_vector = list(zip(pred_Y_rf,liquidity_test))\n",
    "    lid = dict(zip(companies,combined_vector ))\n",
    "    for j in companies:\n",
    "        if lid[j][0] == 'Buy':\n",
    "            lf_b[j] = lid[j][1] \n",
    "        else: \n",
    "            lf_s[j] = lid[j][1]\n",
    "        lf_all[j]= lid[j][1]\n",
    "     \n",
    "    #plot different histograms for both long and short side portfolio's liquidity\n",
    "    L_b = list(lf_b.values())\n",
    "    L_s = list(lf_s.values())\n",
    "    plt.hist(x= L_b,bins = 300)\n",
    "    plt.title('buy')\n",
    "    plt.hist(x= L_s,bins = 300)\n",
    "    plt.title('sell')\n",
    "\n",
    "    ###########################\n",
    "    #liquidity_weighted portfolio optimization#\n",
    "    data_b = pd.DataFrame.from_dict(lf_b,orient = 'index')\n",
    "    data_s = pd.DataFrame.from_dict(lf_s,orient = 'index')\n",
    "    \n",
    "    weight_b = data_b.iloc[:,0].values\n",
    "    weight_s = data_s.iloc[:,0].values\n",
    "    \n",
    "    #initialize the portfolio weights\n",
    "    # 20 \n",
    "    portfolio_weights_b = np.tile(x/nl/1000,nl)\n",
    "    # 20 \n",
    "    portfolio_weights_s = np.tile(-x/ns/1000,ns)\n",
    "    scaling_factor_b = np.tile(0,nl) \n",
    "    scaling_factor_s = np.tile(0,ns)\n",
    "    \n",
    "    #change scaling of the scaling factor\n",
    "    ############################\n",
    "    scaling_factor_new_b = scaling_classify(scaling_factor_b,weight_b,[0,0,0,500])\n",
    "    scaling_factor_new_s = scaling_classify(scaling_factor_s,weight_s,[0,0,0,500])\n",
    "    \n",
    "    #rebalance the portfolio weights to make it dollar neutral\n",
    "    portfolio_weights_b,scaling_factor_new_b= weight_balance(portfolio_weights_b,scaling_factor_new_b,x)\n",
    "    portfolio_weights_s,scaling_factor_new_s= weight_balance(portfolio_weights_s,scaling_factor_new_s,x)\n",
    "    \n",
    "    portfolio_weights_b = np.multiply(portfolio_weights_b,scaling_factor_new_b)\n",
    "    portfolio_weights_s = np.multiply(portfolio_weights_s,scaling_factor_new_s)\n",
    "    \n",
    "    #find the corresponding companies from index, IN THE SAME ORDER\n",
    "    #then forms a new dictionary of returns\n",
    "    return_companies = list(data_b.index) + list(data_s.index)\n",
    "    return_weights = portfolio_weights_b.tolist() + portfolio_weights_s.tolist()\n",
    "    returns = {}\n",
    "    for zz in range(len(return_companies)):\n",
    "        returns[return_companies[zz]]= return_weights[zz]\n",
    "\n",
    "        \n",
    "    #calculate the portfolio monthly return and iterate\n",
    "    daily_returns,portfolio_return = portfolio_monthly_returns(response_time,files_list,returns_folder,returns,x)\n",
    "    print('portfolio_return for',response_time, 'is ',portfolio_return)\n",
    "    \n",
    "    portfolio_daily_returns = pd.concat([portfolio_daily_returns, daily_returns], ignore_index=True)\n",
    "    portfolio_returns.loc[i] = [pd.Timestamp(response_time),portfolio_return]\n",
    "    i = i+1\n",
    "    x = daily_returns.iloc[-1,1]\n",
    "    print(x)\n",
    "\n",
    "    "
   ]
  },
  {
   "cell_type": "code",
   "execution_count": 22,
   "metadata": {},
   "outputs": [
    {
     "data": {
      "text/plain": [
       "[<matplotlib.lines.Line2D at 0x1574213cba8>]"
      ]
     },
     "execution_count": 22,
     "metadata": {},
     "output_type": "execute_result"
    },
    {
     "data": {
      "image/png": "[encoded data removed]",
      "text/plain": [
       "<Figure size 432x288 with 1 Axes>"
      ]
     },
     "metadata": {
      "needs_background": "light"
     },
     "output_type": "display_data"
    }
   ],
   "source": [
    "aggregate = [1]\n",
    "for i in portfolio_daily_returns['portfolio_return']:\n",
    "    aggregate.append(aggregate[-1]*(i+1))\n",
    "aggregate = aggregate[1:]\n",
    "#print(aggregate)\n",
    "plt.plot(portfolio_daily_returns['date'],aggregate)"
   ]
  },
  {
   "cell_type": "code",
   "execution_count": 23,
   "metadata": {},
   "outputs": [],
   "source": [
    "portfolio_daily_returns = portfolio_daily_returns.set_index(portfolio_daily_returns['date'])"
   ]
  },
  {
   "cell_type": "markdown",
   "metadata": {
    "collapsed": true
   },
   "source": [
    "## 3. output"
   ]
  },
  {
   "cell_type": "code",
   "execution_count": 24,
   "metadata": {},
   "outputs": [],
   "source": [
    "def mean_return(returns):\n",
    "    return 252*np.mean(returns)*100\n",
    "    \n",
    "def vol(returns):\n",
    "    return np.sqrt(252)*np.std(returns)*100\n",
    "\n",
    "def sharpe_ratio(returns):\n",
    "    return np.sqrt(252)*np.mean(returns)/np.std(returns)\n",
    "\n",
    "def Sortino(returns):\n",
    "    return np.sqrt(252)*np.mean(returns)/np.std(returns[returns<0])\n",
    "\n",
    "def draw_down(returns):\n",
    "    # We are going to use a trailing 252 trading day window\n",
    "    window = 252\n",
    "    # Calculate the max drawdown in the past window days for each day in the series.\n",
    "    # Use min_periods=1 if you want to let the first 252 days data have an expanding window\n",
    "    #Roll_Max = pd.rolling_max(returns, window, min_periods=1)\n",
    "    \n",
    "    Roll_Max = returns.rolling(window,min_periods = 1).max()\n",
    "    Daily_Drawdown = returns/Roll_Max - 1.0\n",
    "\n",
    "    # Then we calculate the minimum daily drawdown, which is equivalent to maximum drawdown \n",
    "    # Again, use min_periods=1 if you want to allow the expanding window\n",
    "    #Max_Daily_Drawdown = pd.rolling_min(Daily_Drawdown, window, min_periods=1)\n",
    "    Max_Daily_Drawdown = Daily_Drawdown.rolling(window,min_periods = 1).min()\n",
    "    return Max_Daily_Drawdown\n",
    "    "
   ]
  },
  {
   "cell_type": "code",
   "execution_count": 25,
   "metadata": {},
   "outputs": [
    {
     "name": "stdout",
     "output_type": "stream",
     "text": [
      "year 2011, mean return = 12.1871, Volatility = 3.4702, sharpe ratio = 3.5120, Sortino ratio = 6.0151\n",
      "year 2012, mean return = -0.3674, Volatility = 3.5715, sharpe ratio = -0.1029, Sortino ratio = -0.1400\n",
      "year 2013, mean return = 4.7482, Volatility = 2.8376, sharpe ratio = 1.6733, Sortino ratio = 2.1109\n",
      "year 2014, mean return = 1.9404, Volatility = 3.2107, sharpe ratio = 0.6044, Sortino ratio = 0.9021\n",
      "year 2015, mean return = 0.0801, Volatility = 5.1606, sharpe ratio = 0.0155, Sortino ratio = 0.0224\n",
      "year 2016, mean return = -2.0112, Volatility = 3.4513, sharpe ratio = -0.5827, Sortino ratio = -0.9582\n"
     ]
    }
   ],
   "source": [
    "for year in range(2011,2017):\n",
    "    returns = portfolio_daily_returns[str(year)+'-01-01':str(year+1)+'-01-01']['portfolio_return']\n",
    "    #print(len(returns))\n",
    "    print(draw_down(returns)[-1])\n",
    "    print('year %4d, mean return = %.4f, Volatility = %.4f, sharpe ratio = %.4f, Max_Drawdown Rate = %.4f, Sortino ratio = %.4f' % \\\n",
    "          (year,mean_return(returns),vol(returns),sharpe_ratio(returns),draw_down(returns)[-1],Sortino(returns)))"
   ]
  },
  {
   "cell_type": "markdown",
   "metadata": {},
   "source": [
    "total portfolio return"
   ]
  },
  {
   "cell_type": "code",
   "execution_count": 26,
   "metadata": {},
   "outputs": [
    {
     "data": {
      "text/plain": [
       "0.15593053290221381"
      ]
     },
     "execution_count": 26,
     "metadata": {},
     "output_type": "execute_result"
    }
   ],
   "source": [
    "aggregate[-1]-1"
   ]
  },
  {
   "cell_type": "code",
   "execution_count": null,
   "metadata": {},
   "outputs": [],
   "source": []
  },
  {
   "cell_type": "code",
   "execution_count": null,
   "metadata": {},
   "outputs": [],
   "source": []
  },
  {
   "cell_type": "code",
   "execution_count": null,
   "metadata": {},
   "outputs": [],
   "source": []
  }
 ],
 "metadata": {
  "kernelspec": {
   "display_name": "Python 3",
   "language": "python",
   "name": "python3"
  },
  "language_info": {
   "codemirror_mode": {
    "name": "ipython",
    "version": 3
   },
   "file_extension": ".py",
   "mimetype": "text/x-python",
   "name": "python",
   "nbconvert_exporter": "python",
   "pygments_lexer": "ipython3",
   "version": "3.7.1"
  }
 },
 "nbformat": 4,
 "nbformat_minor": 2
}
